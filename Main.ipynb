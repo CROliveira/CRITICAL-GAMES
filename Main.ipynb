{
 "cells": [
  {
   "cell_type": "code",
   "execution_count": 4,
   "metadata": {
    "ExecuteTime": {
     "end_time": "2019-10-01T13:10:18.529066Z",
     "start_time": "2019-10-01T13:10:18.518582Z"
    }
   },
   "outputs": [
    {
     "data": {
      "text/plain": [
       "True"
      ]
     },
     "execution_count": 4,
     "metadata": {},
     "output_type": "execute_result"
    }
   ],
   "source": [
    "# 'how are you?'.isspace()\n",
    "\n",
    "# '   Hi!   '.strip() == 'Hi!    '\n",
    "\n",
    "# 'hello'.rfind('l') == 3\n",
    "\n",
    "'007B!'.isupper()"
   ]
  },
  {
   "cell_type": "code",
   "execution_count": 132,
   "metadata": {
    "ExecuteTime": {
     "end_time": "2019-10-01T22:50:07.159566Z",
     "start_time": "2019-10-01T22:50:07.142723Z"
    }
   },
   "outputs": [],
   "source": [
    "def upper_lower(s):\n",
    "    \n",
    "    \"\"\" (str) -> bool\n",
    "    \n",
    "    Return True if and only if there is at least one alphabetic character in s and the alphabetic characters in s\n",
    "    are either all uppercase or all lowercase.\n",
    "    \n",
    "    >>> upper_lower('abc')\n",
    "    True\n",
    "    >>> upper_lower('abcXYZ')\n",
    "    False\n",
    "    >>> upper_lower('XYZ')\n",
    "    True\n",
    "    \"\"\"\n",
    "#     for char in s:\n",
    "#         if char.isalpha and (char.islower or char.isupper):\n",
    "#             result = True\n",
    "#             return result\n",
    "    return s.isupper() or s.islower()\n"
   ]
  },
  {
   "cell_type": "code",
   "execution_count": 134,
   "metadata": {
    "ExecuteTime": {
     "end_time": "2019-10-01T22:50:16.906647Z",
     "start_time": "2019-10-01T22:50:16.897984Z"
    }
   },
   "outputs": [
    {
     "data": {
      "text/plain": [
       "True"
      ]
     },
     "execution_count": 134,
     "metadata": {},
     "output_type": "execute_result"
    }
   ],
   "source": [
    "upper_lower('XYZ')"
   ]
  },
  {
   "cell_type": "code",
   "execution_count": 38,
   "metadata": {
    "ExecuteTime": {
     "end_time": "2019-10-01T16:04:20.701098Z",
     "start_time": "2019-10-01T16:04:20.677924Z"
    }
   },
   "outputs": [],
   "source": [
    "CHILD = 'child'\n",
    "ADULT = 'adult'\n",
    "SENIOR = 'senior'\n",
    "\n",
    "def overdue_fees(days_late: int, age_group: str) -> int:\n",
    "    \"\"\"\n",
    "    Return the fees for a book that is days_late days late for a borrower\n",
    "    in the age group age_group.\n",
    "    \n",
    "    >>> overdue_fees(2, SENIOR) # 2 days late, SENIOR borrower\n",
    "    0.5\n",
    "    >>> overdue_fees(5, ADULT) # 5 days late, ADULT borrower\n",
    "    10\n",
    "    \"\"\"\n",
    "    if age_group == CHILD:\n",
    "        if days_late < 4:\n",
    "            return int(days_late) * (1 / 2)\n",
    "        elif 4 <= days_late <= 6:\n",
    "            return int(days_late) * (2 / 2)\n",
    "        elif days_late > 6:\n",
    "            return int(days_late) * (3 / 2)\n",
    "    if age_group == ADULT:\n",
    "        if days_late < 4:\n",
    "            return int(days_late) * 1\n",
    "        elif 4 <= days_late <= 6:\n",
    "            return int(days_late) * 2\n",
    "        elif days_late > 6:\n",
    "            return int(days_late) * 3\n",
    "    if age_group == SENIOR:\n",
    "        if days_late < 4:\n",
    "            return int(days_late) * (1 / 4)\n",
    "        elif 4 <= days_late <= 6:\n",
    "            return int(days_late) * (2 / 4)\n",
    "        elif days_late > 6:\n",
    "            return int(days_late) * (3 / 4)\n",
    "            "
   ]
  },
  {
   "cell_type": "code",
   "execution_count": 41,
   "metadata": {
    "ExecuteTime": {
     "end_time": "2019-10-01T16:05:59.621841Z",
     "start_time": "2019-10-01T16:05:59.616237Z"
    }
   },
   "outputs": [],
   "source": [
    "def count_non_digits(s: str) -> int:\n",
    "    \"\"\"\n",
    "    Return the number of non-digits in s.\n",
    "\n",
    "    >>> count_non_digits('abc12d')\n",
    "    4\n",
    "    >>> count_non_digits('135')\n",
    "    0\n",
    "    >>> count_non_digits('A.4')\n",
    "    2\n",
    "    \"\"\"\n",
    "    dig = 1234567890\n",
    "    count = 0\n",
    "    for num in s:\n",
    "        if num != dig:\n",
    "            count =+ 1\n",
    "#             return count"
   ]
  },
  {
   "cell_type": "code",
   "execution_count": 83,
   "metadata": {
    "ExecuteTime": {
     "end_time": "2019-10-01T16:52:41.639886Z",
     "start_time": "2019-10-01T16:52:41.633119Z"
    }
   },
   "outputs": [],
   "source": [
    "def count_non_digits(s: str) -> int:\n",
    "    \"\"\"\n",
    "    Return the number of non-digits in s.\n",
    "\n",
    "    >>> count_non_digits('abc12d')\n",
    "    4\n",
    "    >>> count_non_digits('135')\n",
    "    0\n",
    "    >>> count_non_digits('A.4')\n",
    "    2\n",
    "    \"\"\"\n",
    "    count = 0\n",
    "    for char in s:\n",
    "        if not char.isdigit():\n",
    "            count += 1\n",
    "    return count\n",
    "    \n",
    "#     non_digit = \"\"\n",
    "#     for char in s:\n",
    "#         if char in str(1234567890):\n",
    "#             non_digit += char\n",
    "#     return non_digit"
   ]
  },
  {
   "cell_type": "code",
   "execution_count": 85,
   "metadata": {
    "ExecuteTime": {
     "end_time": "2019-10-01T16:52:51.936552Z",
     "start_time": "2019-10-01T16:52:51.927642Z"
    }
   },
   "outputs": [
    {
     "data": {
      "text/plain": [
       "4"
      ]
     },
     "execution_count": 85,
     "metadata": {},
     "output_type": "execute_result"
    }
   ],
   "source": [
    "count_non_digits('abc12d')"
   ]
  },
  {
   "cell_type": "code",
   "execution_count": 141,
   "metadata": {
    "ExecuteTime": {
     "end_time": "2019-10-01T23:42:46.581868Z",
     "start_time": "2019-10-01T23:42:46.573902Z"
    }
   },
   "outputs": [],
   "source": [
    "def contains_no_lowercase_vowels(phrase: str) -> bool:\n",
    "    \"\"\" \n",
    "    Return True iff (if and only if) phrase does not contain any lowercase vowels.\n",
    "\n",
    "    >>> contains_no_lowercase_vowels('SYZYGY')\n",
    "    True\n",
    "    >>> contains_no_lowercase_vowels('e')\n",
    "    False\n",
    "    >>> contains_no_lowercase_vowels('abc')\n",
    "    False\n",
    "    \"\"\"\n",
    "    vowels = ''\n",
    "    for char in phrase:\n",
    "        if char in 'aeiou':\n",
    "            vowels += char\n",
    "    return vowels == ''"
   ]
  },
  {
   "cell_type": "code",
   "execution_count": 142,
   "metadata": {
    "ExecuteTime": {
     "end_time": "2019-10-01T23:42:47.071184Z",
     "start_time": "2019-10-01T23:42:47.062680Z"
    }
   },
   "outputs": [
    {
     "data": {
      "text/plain": [
       "True"
      ]
     },
     "execution_count": 142,
     "metadata": {},
     "output_type": "execute_result"
    }
   ],
   "source": [
    "contains_no_lowercase_vowels('')"
   ]
  },
  {
   "cell_type": "code",
   "execution_count": null,
   "metadata": {},
   "outputs": [],
   "source": []
  },
  {
   "cell_type": "code",
   "execution_count": null,
   "metadata": {},
   "outputs": [],
   "source": []
  },
  {
   "cell_type": "code",
   "execution_count": 101,
   "metadata": {
    "ExecuteTime": {
     "end_time": "2019-10-01T19:05:28.908521Z",
     "start_time": "2019-10-01T19:05:28.901060Z"
    }
   },
   "outputs": [],
   "source": [
    "def check_password(passwd: str) -> bool:\n",
    "    \"\"\" \n",
    "    A strong password has a length greater than or equal to 6, contains at\n",
    "    least one lowercase letter, at least one uppercase letter, and at least\n",
    "    one digit.  Return True iff passwd is considered strong.\n",
    "\n",
    "    >>> check_password('I<3csc108')\n",
    "    True\n",
    "    \"\"\"\n",
    "    if len(passwd) < 6:\n",
    "        return False\n",
    "    lower = False\n",
    "    upper = False\n",
    "    digit = False\n",
    "    \n",
    "    for char in passwd:\n",
    "        if char.isupper():\n",
    "            upper = True\n",
    "        elif char.islower():\n",
    "            lower = True\n",
    "        elif char.isdigit():\n",
    "            digit = True\n",
    "    return lower and upper and digit"
   ]
  },
  {
   "cell_type": "code",
   "execution_count": 102,
   "metadata": {
    "ExecuteTime": {
     "end_time": "2019-10-01T19:05:36.707834Z",
     "start_time": "2019-10-01T19:05:36.698153Z"
    }
   },
   "outputs": [
    {
     "data": {
      "text/plain": [
       "True"
      ]
     },
     "execution_count": 102,
     "metadata": {},
     "output_type": "execute_result"
    }
   ],
   "source": [
    "check_password('I<3csc108')"
   ]
  },
  {
   "cell_type": "code",
   "execution_count": 110,
   "metadata": {
    "ExecuteTime": {
     "end_time": "2019-10-01T19:09:35.850069Z",
     "start_time": "2019-10-01T19:09:35.844392Z"
    }
   },
   "outputs": [],
   "source": [
    "def reverse_str(s):\n",
    "    '''return the reversed version of s\n",
    "    \n",
    "    reverse_str(\"abc\") -> \"cba\"\n",
    "    \n",
    "    '''\n",
    "    \n",
    "    res = \"\"\n",
    "    for c in s:\n",
    "        res = c + res\n",
    "    return res\n",
    "    "
   ]
  },
  {
   "cell_type": "code",
   "execution_count": 111,
   "metadata": {
    "ExecuteTime": {
     "end_time": "2019-10-01T19:09:36.233660Z",
     "start_time": "2019-10-01T19:09:36.224815Z"
    }
   },
   "outputs": [
    {
     "data": {
      "text/plain": [
       "'cba'"
      ]
     },
     "execution_count": 111,
     "metadata": {},
     "output_type": "execute_result"
    }
   ],
   "source": [
    "reverse_str(\"abc\")"
   ]
  },
  {
   "cell_type": "code",
   "execution_count": null,
   "metadata": {},
   "outputs": [],
   "source": []
  }
 ],
 "metadata": {
  "kernelspec": {
   "display_name": "Python 3",
   "language": "python",
   "name": "python3"
  },
  "language_info": {
   "codemirror_mode": {
    "name": "ipython",
    "version": 3
   },
   "file_extension": ".py",
   "mimetype": "text/x-python",
   "name": "python",
   "nbconvert_exporter": "python",
   "pygments_lexer": "ipython3",
   "version": "3.7.3"
  }
 },
 "nbformat": 4,
 "nbformat_minor": 2
}
