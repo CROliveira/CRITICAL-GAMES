{
 "cells": [
  {
   "cell_type": "markdown",
   "metadata": {
    "toc": true
   },
   "source": [
    "<h1>Table of Contents<span class=\"tocSkip\"></span></h1>\n",
    "<div class=\"toc\"><ul class=\"toc-item\"><li><span><a href=\"#Creating-the-environment\" data-toc-modified-id=\"Creating-the-environment-1\"><span class=\"toc-item-num\">1&nbsp;&nbsp;</span>Creating the environment</a></span><ul class=\"toc-item\"><li><span><a href=\"#Installing-libraries\" data-toc-modified-id=\"Installing-libraries-1.1\"><span class=\"toc-item-num\">1.1&nbsp;&nbsp;</span>Installing libraries</a></span></li><li><span><a href=\"#Importing-modules\" data-toc-modified-id=\"Importing-modules-1.2\"><span class=\"toc-item-num\">1.2&nbsp;&nbsp;</span>Importing modules</a></span></li><li><span><a href=\"#Checking-system-and-setting-it-up\" data-toc-modified-id=\"Checking-system-and-setting-it-up-1.3\"><span class=\"toc-item-num\">1.3&nbsp;&nbsp;</span>Checking system and setting it up</a></span></li></ul></li><li><span><a href=\"#Data-exploration\" data-toc-modified-id=\"Data-exploration-2\"><span class=\"toc-item-num\">2&nbsp;&nbsp;</span>Data exploration</a></span><ul class=\"toc-item\"><li><span><a href=\"#ABOUT-THE-DATASET\" data-toc-modified-id=\"ABOUT-THE-DATASET-2.1\"><span class=\"toc-item-num\">2.1&nbsp;&nbsp;</span>ABOUT THE DATASET</a></span></li><li><span><a href=\"#Question-1---Loading\" data-toc-modified-id=\"Question-1---Loading-2.2\"><span class=\"toc-item-num\">2.2&nbsp;&nbsp;</span>Question 1 - Loading</a></span></li><li><span><a href=\"#Question-2---Analyzing\" data-toc-modified-id=\"Question-2---Analyzing-2.3\"><span class=\"toc-item-num\">2.3&nbsp;&nbsp;</span>Question 2 - Analyzing</a></span></li><li><span><a href=\"#Data-exploration-shortcut\" data-toc-modified-id=\"Data-exploration-shortcut-2.4\"><span class=\"toc-item-num\">2.4&nbsp;&nbsp;</span>Data exploration shortcut</a></span></li><li><span><a href=\"#Question-3---Exploring\" data-toc-modified-id=\"Question-3---Exploring-2.5\"><span class=\"toc-item-num\">2.5&nbsp;&nbsp;</span>Question 3 - Exploring</a></span></li><li><span><a href=\"#Exploring-independent-variables\" data-toc-modified-id=\"Exploring-independent-variables-2.6\"><span class=\"toc-item-num\">2.6&nbsp;&nbsp;</span>Exploring independent variables</a></span></li></ul></li><li><span><a href=\"#Data-Manipulation\" data-toc-modified-id=\"Data-Manipulation-3\"><span class=\"toc-item-num\">3&nbsp;&nbsp;</span>Data Manipulation</a></span><ul class=\"toc-item\"><li><span><a href=\"#Question-4---Manipulating\" data-toc-modified-id=\"Question-4---Manipulating-3.1\"><span class=\"toc-item-num\">3.1&nbsp;&nbsp;</span>Question 4 - Manipulating</a></span></li></ul></li><li><span><a href=\"#Plotting\" data-toc-modified-id=\"Plotting-4\"><span class=\"toc-item-num\">4&nbsp;&nbsp;</span>Plotting</a></span><ul class=\"toc-item\"><li><span><a href=\"#Question-5---Plotting\" data-toc-modified-id=\"Question-5---Plotting-4.1\"><span class=\"toc-item-num\">4.1&nbsp;&nbsp;</span>Question 5 - Plotting</a></span></li></ul></li><li><span><a href=\"#Journey\" data-toc-modified-id=\"Journey-5\"><span class=\"toc-item-num\">5&nbsp;&nbsp;</span>Journey</a></span><ul class=\"toc-item\"><li><span><a href=\"#Question-6---Wrangling\" data-toc-modified-id=\"Question-6---Wrangling-5.1\"><span class=\"toc-item-num\">5.1&nbsp;&nbsp;</span>Question 6 - Wrangling</a></span></li></ul></li><li><span><a href=\"#Correlation-Plot\" data-toc-modified-id=\"Correlation-Plot-6\"><span class=\"toc-item-num\">6&nbsp;&nbsp;</span>Correlation Plot</a></span><ul class=\"toc-item\"><li><span><a href=\"#Question-7---Correlating\" data-toc-modified-id=\"Question-7---Correlating-6.1\"><span class=\"toc-item-num\">6.1&nbsp;&nbsp;</span>Question 7 - Correlating</a></span></li><li><span><a href=\"#Extra\" data-toc-modified-id=\"Extra-6.2\"><span class=\"toc-item-num\">6.2&nbsp;&nbsp;</span>Extra</a></span></li></ul></li></ul></div>"
   ]
  },
  {
   "cell_type": "markdown",
   "metadata": {},
   "source": [
    "# Creating the environment "
   ]
  },
  {
   "cell_type": "markdown",
   "metadata": {},
   "source": [
    "## Installing libraries"
   ]
  },
  {
   "cell_type": "code",
   "execution_count": 1,
   "metadata": {
    "ExecuteTime": {
     "end_time": "2020-07-12T18:00:17.918649Z",
     "start_time": "2020-07-12T18:00:17.916126Z"
    }
   },
   "outputs": [],
   "source": [
    "# Installing modules\n",
    "# !pip install plotly"
   ]
  },
  {
   "cell_type": "markdown",
   "metadata": {},
   "source": [
    "## Importing modules"
   ]
  },
  {
   "cell_type": "code",
   "execution_count": 2,
   "metadata": {
    "ExecuteTime": {
     "end_time": "2020-07-12T18:00:21.913852Z",
     "start_time": "2020-07-12T18:00:18.057242Z"
    }
   },
   "outputs": [
    {
     "name": "stdout",
     "output_type": "stream",
     "text": [
      "Importing libraries ... \n",
      "Pixiedust database opened successfully\n"
     ]
    },
    {
     "data": {
      "text/html": [
       "\n",
       "        <div style=\"margin:10px\">\n",
       "            <a href=\"https://github.com/ibm-watson-data-lab/pixiedust\" target=\"_new\">\n",
       "                <img src=\"https://github.com/ibm-watson-data-lab/pixiedust/raw/master/docs/_static/pd_icon32.png\" style=\"float:left;margin-right:10px\"/>\n",
       "            </a>\n",
       "            <span>Pixiedust version 1.1.18</span>\n",
       "        </div>\n",
       "        "
      ],
      "text/plain": [
       "<IPython.core.display.HTML object>"
      ]
     },
     "metadata": {},
     "output_type": "display_data"
    },
    {
     "name": "stdout",
     "output_type": "stream",
     "text": [
      "All modules are ready\n"
     ]
    }
   ],
   "source": [
    "\n",
    "# Importing libraries\n",
    "print(\"Importing libraries ... \")\n",
    "import pandas as pd\n",
    "import numpy as np\n",
    "import pixiedust\n",
    "import datetime\n",
    "import time\n",
    "import seaborn as sns\n",
    "from scipy import stats\n",
    "from scipy.stats.distributions import norm\n",
    "import matplotlib.pyplot as plt\n",
    "import plotly.graph_objs as go\n",
    "import plotly.offline as py\n",
    "print(\"All modules are ready\")\n",
    "\n",
    "\n"
   ]
  },
  {
   "cell_type": "markdown",
   "metadata": {},
   "source": [
    "## Checking system and setting it up"
   ]
  },
  {
   "cell_type": "code",
   "execution_count": 3,
   "metadata": {
    "ExecuteTime": {
     "end_time": "2020-07-12T18:00:21.927546Z",
     "start_time": "2020-07-12T18:00:21.916764Z"
    }
   },
   "outputs": [
    {
     "name": "stdout",
     "output_type": "stream",
     "text": [
      "Python version:  3.7.6 (default, Jan  8 2020, 13:42:34) \n",
      "[Clang 4.0.1 (tags/RELEASE_401/final)] \n",
      "\n",
      "This kernel has  4 cores and memory usage of: svmem(total=8589934592, available=3977957376, percent=53.7, used=3262722048, free=1737482240, active=1588899840, inactive=1765523456, wired=1673822208) \n",
      "\n",
      "File directory /Users/speedy/Desktop/UofT/Course load/INF2179H - Machine Learning/Assignments\n"
     ]
    }
   ],
   "source": [
    "# Setting up the system\n",
    "\n",
    "def settings():\n",
    "    # Display python version and operational system-specif parameters \n",
    "    import sys\n",
    "    print(\"Python version: \", sys.version, \"\\n\")\n",
    "\n",
    "    # Check the number of cores and memory usage\n",
    "    import multiprocessing as mp\n",
    "    num_cores = mp.cpu_count()\n",
    "    import psutil\n",
    "    print(\"This kernel has \", num_cores, \"cores and memory usage of:\", psutil.virtual_memory(), \"\\n\")\n",
    "\n",
    "    # # Check Dask and Hosting the diagnostics dashboard\n",
    "    # cluster = LocalCluster()\n",
    "    # client = Client(cluster)\n",
    "    # client\n",
    "\n",
    "    # Expands the visualization of a matrix\n",
    "    pd.set_option('display.max_columns', 500)\n",
    "    pd.set_option('display.max_rows', 500)\n",
    "    pd.set_option('display.width', 500)\n",
    "    \n",
    "    #Checking the directory we are working on\n",
    "    import os\n",
    "    print(\"File directory\", os.getcwd())\n",
    "\n",
    "settings()"
   ]
  },
  {
   "cell_type": "markdown",
   "metadata": {},
   "source": [
    "# Data exploration"
   ]
  },
  {
   "cell_type": "markdown",
   "metadata": {},
   "source": [
    "## ABOUT THE DATASET \n",
    "\n",
    "* Time: Timestamp in UNIX time (seconds elapsed since January 1st, 1970).\n",
    "* LineID: Line identifier (e.g., Line number 65).\n",
    "* JourneyPattern: A line may have several routes (including forward and backward directions). This field identifies a specific sequence of stops that the bus takes.\n",
    "* VehicleJourneyID: A unique identifier for the journey (every time a vehicle restarts a journey from a terminal station, this id resets).\n",
    "* Operator: Dublin works with several bus operating forms. The field contains the form that performs the journey.\n",
    "* Congestion: An indicator for whether the bus is currently in traffic.\n",
    "* Lon, Lat: GPS location.\n",
    "* Delay: The delay of the bus w.r.t. schedule.\n",
    "* VehicleID: A unique bus id (a bus may change patterns but not its id).\n",
    "* StopID: The closest stop (identifier).\n",
    "* AtStop: An indicator for an open door."
   ]
  },
  {
   "cell_type": "markdown",
   "metadata": {},
   "source": [
    "## Question 1 - Loading\n",
    "Load the data into a data structure (e.g., pandas, or numpy array/matrix)"
   ]
  },
  {
   "cell_type": "code",
   "execution_count": 4,
   "metadata": {
    "ExecuteTime": {
     "end_time": "2020-07-12T18:00:23.548710Z",
     "start_time": "2020-07-12T18:00:21.935966Z"
    }
   },
   "outputs": [
    {
     "data": {
      "text/html": [
       "<div>\n",
       "<style scoped>\n",
       "    .dataframe tbody tr th:only-of-type {\n",
       "        vertical-align: middle;\n",
       "    }\n",
       "\n",
       "    .dataframe tbody tr th {\n",
       "        vertical-align: top;\n",
       "    }\n",
       "\n",
       "    .dataframe thead th {\n",
       "        text-align: right;\n",
       "    }\n",
       "</style>\n",
       "<table border=\"1\" class=\"dataframe\">\n",
       "  <thead>\n",
       "    <tr style=\"text-align: right;\">\n",
       "      <th></th>\n",
       "      <th>Time</th>\n",
       "      <th>LineID</th>\n",
       "      <th>JourneyPattern</th>\n",
       "      <th>VehicleJID</th>\n",
       "      <th>Operator</th>\n",
       "      <th>Congestion</th>\n",
       "      <th>Lon</th>\n",
       "      <th>Lat</th>\n",
       "      <th>Delay</th>\n",
       "      <th>VehicleID</th>\n",
       "      <th>StopID</th>\n",
       "      <th>AtStop</th>\n",
       "    </tr>\n",
       "  </thead>\n",
       "  <tbody>\n",
       "    <tr>\n",
       "      <th>0</th>\n",
       "      <td>1411686000</td>\n",
       "      <td>65B</td>\n",
       "      <td>065B1001</td>\n",
       "      <td>7251</td>\n",
       "      <td>RD</td>\n",
       "      <td>0</td>\n",
       "      <td>-6.266066</td>\n",
       "      <td>53.338269</td>\n",
       "      <td>-739</td>\n",
       "      <td>38004</td>\n",
       "      <td>1354</td>\n",
       "      <td>0</td>\n",
       "    </tr>\n",
       "    <tr>\n",
       "      <th>1</th>\n",
       "      <td>1411686000</td>\n",
       "      <td>13</td>\n",
       "      <td>00131002</td>\n",
       "      <td>1809</td>\n",
       "      <td>HN</td>\n",
       "      <td>0</td>\n",
       "      <td>-6.266332</td>\n",
       "      <td>53.408386</td>\n",
       "      <td>1127</td>\n",
       "      <td>33342</td>\n",
       "      <td>323</td>\n",
       "      <td>0</td>\n",
       "    </tr>\n",
       "  </tbody>\n",
       "</table>\n",
       "</div>"
      ],
      "text/plain": [
       "         Time LineID JourneyPattern  VehicleJID Operator  Congestion       Lon        Lat  Delay  VehicleID  StopID  AtStop\n",
       "0  1411686000    65B       065B1001        7251       RD           0 -6.266066  53.338269   -739      38004    1354       0\n",
       "1  1411686000     13       00131002        1809       HN           0 -6.266332  53.408386   1127      33342     323       0"
      ]
     },
     "execution_count": 4,
     "metadata": {},
     "output_type": "execute_result"
    }
   ],
   "source": [
    "# reading dataset\n",
    "file_path = \"/Users/speedy/Desktop/UofT/Course load/INF2179H - Machine Learning/Notebooks/Data/\"\n",
    "siri = pd.read_csv(file_path + \"SiriLog.csv\")\n",
    "\n",
    "# printing the first two lines on the dataset\n",
    "siri.head(2)"
   ]
  },
  {
   "cell_type": "code",
   "execution_count": 5,
   "metadata": {
    "ExecuteTime": {
     "end_time": "2020-07-12T18:00:24.502626Z",
     "start_time": "2020-07-12T18:00:23.553212Z"
    }
   },
   "outputs": [
    {
     "name": "stdout",
     "output_type": "stream",
     "text": [
      "Dataset type is:  <class 'pandas.core.frame.DataFrame'> \n",
      "\n",
      "The data shape is:  (1048575, 12) \n",
      "\n",
      "This dataset has  0 duplicated values\n",
      "\n",
      "Column names are:  Index(['Time', 'LineID', 'JourneyPattern', 'VehicleJID', 'Operator', 'Congestion', 'Lon', 'Lat', 'Delay', 'VehicleID', 'StopID', 'AtStop'], dtype='object')\n"
     ]
    }
   ],
   "source": [
    "# Exploration 1st step\n",
    "def exploration():\n",
    "    # Dataset type\n",
    "    print(\"Dataset type is: \", type(siri), \"\\n\")\n",
    "    \n",
    "    # Data shape\n",
    "    print(\"The data shape is: \", siri.shape, \"\\n\")\n",
    "    \n",
    "    # Checking for duplicates\n",
    "    dup = siri.duplicated().sum()\n",
    "    print(\"This dataset has \", dup, \"duplicated values\\n\")\n",
    "    \n",
    "    # Column names\n",
    "    print(\"Column names are: \", siri.columns)\n",
    "    \n",
    "\n",
    "exploration()"
   ]
  },
  {
   "cell_type": "code",
   "execution_count": 6,
   "metadata": {
    "ExecuteTime": {
     "end_time": "2020-07-12T18:00:24.685859Z",
     "start_time": "2020-07-12T18:00:24.506067Z"
    }
   },
   "outputs": [
    {
     "data": {
      "text/plain": [
       "Time              0\n",
       "LineID            0\n",
       "JourneyPattern    0\n",
       "VehicleJID        0\n",
       "Operator          0\n",
       "Congestion        0\n",
       "Lon               0\n",
       "Lat               0\n",
       "Delay             0\n",
       "VehicleID         0\n",
       "StopID            0\n",
       "AtStop            0\n",
       "dtype: int64"
      ]
     },
     "execution_count": 6,
     "metadata": {},
     "output_type": "execute_result"
    }
   ],
   "source": [
    "# Checking null values\n",
    "siri.isnull().sum()"
   ]
  },
  {
   "cell_type": "markdown",
   "metadata": {},
   "source": [
    "## Question 2 - Analyzing \n",
    "Which of the predictors are numeric and which are nominal (or categorical)\n"
   ]
  },
  {
   "cell_type": "code",
   "execution_count": 7,
   "metadata": {
    "ExecuteTime": {
     "end_time": "2020-07-12T18:00:24.865738Z",
     "start_time": "2020-07-12T18:00:24.688943Z"
    }
   },
   "outputs": [
    {
     "name": "stdout",
     "output_type": "stream",
     "text": [
      "<class 'pandas.core.frame.DataFrame'>\n",
      "RangeIndex: 1048575 entries, 0 to 1048574\n",
      "Data columns (total 12 columns):\n",
      " #   Column          Non-Null Count    Dtype  \n",
      "---  ------          --------------    -----  \n",
      " 0   Time            1048575 non-null  int64  \n",
      " 1   LineID          1048575 non-null  object \n",
      " 2   JourneyPattern  1048575 non-null  object \n",
      " 3   VehicleJID      1048575 non-null  int64  \n",
      " 4   Operator        1048575 non-null  object \n",
      " 5   Congestion      1048575 non-null  int64  \n",
      " 6   Lon             1048575 non-null  float64\n",
      " 7   Lat             1048575 non-null  float64\n",
      " 8   Delay           1048575 non-null  int64  \n",
      " 9   VehicleID       1048575 non-null  int64  \n",
      " 10  StopID          1048575 non-null  int64  \n",
      " 11  AtStop          1048575 non-null  int64  \n",
      "dtypes: float64(2), int64(7), object(3)\n",
      "memory usage: 96.0+ MB\n"
     ]
    }
   ],
   "source": [
    "siri.info()"
   ]
  },
  {
   "cell_type": "markdown",
   "metadata": {},
   "source": [
    "## Data exploration shortcut"
   ]
  },
  {
   "cell_type": "markdown",
   "metadata": {},
   "source": [
    "## Question 3 - Exploring\n",
    "What is the range of each numeric attribute? What is the mean and standard deviation of each numeric predictor?\n"
   ]
  },
  {
   "cell_type": "code",
   "execution_count": 8,
   "metadata": {
    "ExecuteTime": {
     "end_time": "2020-07-12T18:00:24.917420Z",
     "start_time": "2020-07-12T18:00:24.868857Z"
    }
   },
   "outputs": [
    {
     "name": "stdout",
     "output_type": "stream",
     "text": [
      "Time  is a datatype  int64  and ranges from  1411686000  to  1411755520\n",
      "VehicleJID  is a datatype  int64  and ranges from  1  to  996944\n",
      "Congestion  is a datatype  int64  and ranges from  0  to  1\n",
      "Lon  is a datatype  float64  and ranges from  -6.614652  to  -6.053133\n",
      "Lat  is a datatype  float64  and ranges from  53.070417000000006  to  53.606517000000004\n",
      "Delay  is a datatype  int64  and ranges from  -14209  to  11723\n",
      "VehicleID  is a datatype  int64  and ranges from  18001  to  44034\n",
      "StopID  is a datatype  int64  and ranges from  0  to  7572\n",
      "AtStop  is a datatype  int64  and ranges from  0  to  1\n"
     ]
    }
   ],
   "source": [
    "obj = siri[\"LineID\"].dtype\n",
    "for j in siri:\n",
    "    # Passing by categorical variables\n",
    "    if siri[j].dtype == obj:\n",
    "        siri = siri\n",
    "    # Getting data type and range\n",
    "    else:\n",
    "        min_val = siri[j].min()\n",
    "        max_val = siri[j].max()\n",
    "        print(j, \" is a datatype \", siri[j].dtype, \" and ranges from \", min_val, \" to \", max_val) \n"
   ]
  },
  {
   "cell_type": "code",
   "execution_count": 9,
   "metadata": {
    "ExecuteTime": {
     "end_time": "2020-07-12T18:00:25.276989Z",
     "start_time": "2020-07-12T18:00:24.927288Z"
    }
   },
   "outputs": [
    {
     "data": {
      "text/html": [
       "<div>\n",
       "<style scoped>\n",
       "    .dataframe tbody tr th:only-of-type {\n",
       "        vertical-align: middle;\n",
       "    }\n",
       "\n",
       "    .dataframe tbody tr th {\n",
       "        vertical-align: top;\n",
       "    }\n",
       "\n",
       "    .dataframe thead th {\n",
       "        text-align: right;\n",
       "    }\n",
       "</style>\n",
       "<table border=\"1\" class=\"dataframe\">\n",
       "  <thead>\n",
       "    <tr style=\"text-align: right;\">\n",
       "      <th></th>\n",
       "      <th>Time</th>\n",
       "      <th>VehicleJID</th>\n",
       "      <th>Congestion</th>\n",
       "      <th>Lon</th>\n",
       "      <th>Lat</th>\n",
       "      <th>Delay</th>\n",
       "      <th>VehicleID</th>\n",
       "      <th>StopID</th>\n",
       "      <th>AtStop</th>\n",
       "    </tr>\n",
       "  </thead>\n",
       "  <tbody>\n",
       "    <tr>\n",
       "      <th>count</th>\n",
       "      <td>1.048575e+06</td>\n",
       "      <td>1.048575e+06</td>\n",
       "      <td>1.048575e+06</td>\n",
       "      <td>1.048575e+06</td>\n",
       "      <td>1.048575e+06</td>\n",
       "      <td>1.048575e+06</td>\n",
       "      <td>1.048575e+06</td>\n",
       "      <td>1.048575e+06</td>\n",
       "      <td>1.048575e+06</td>\n",
       "    </tr>\n",
       "    <tr>\n",
       "      <th>mean</th>\n",
       "      <td>1.411733e+09</td>\n",
       "      <td>9.977111e+03</td>\n",
       "      <td>6.713874e-03</td>\n",
       "      <td>-6.270000e+00</td>\n",
       "      <td>5.334311e+01</td>\n",
       "      <td>1.513641e+02</td>\n",
       "      <td>3.659187e+04</td>\n",
       "      <td>2.472550e+03</td>\n",
       "      <td>2.197182e-01</td>\n",
       "    </tr>\n",
       "    <tr>\n",
       "      <th>std</th>\n",
       "      <td>1.397623e+04</td>\n",
       "      <td>7.739258e+04</td>\n",
       "      <td>8.166274e-02</td>\n",
       "      <td>7.979334e-02</td>\n",
       "      <td>5.285900e-02</td>\n",
       "      <td>6.200250e+02</td>\n",
       "      <td>4.065003e+03</td>\n",
       "      <td>2.065485e+03</td>\n",
       "      <td>4.140559e-01</td>\n",
       "    </tr>\n",
       "    <tr>\n",
       "      <th>min</th>\n",
       "      <td>1.411686e+09</td>\n",
       "      <td>1.000000e+00</td>\n",
       "      <td>0.000000e+00</td>\n",
       "      <td>-6.614652e+00</td>\n",
       "      <td>5.307042e+01</td>\n",
       "      <td>-1.420900e+04</td>\n",
       "      <td>1.800100e+04</td>\n",
       "      <td>0.000000e+00</td>\n",
       "      <td>0.000000e+00</td>\n",
       "    </tr>\n",
       "    <tr>\n",
       "      <th>25%</th>\n",
       "      <td>1.411720e+09</td>\n",
       "      <td>1.994000e+03</td>\n",
       "      <td>0.000000e+00</td>\n",
       "      <td>-6.304491e+00</td>\n",
       "      <td>5.332053e+01</td>\n",
       "      <td>-5.900000e+01</td>\n",
       "      <td>3.339600e+04</td>\n",
       "      <td>7.900000e+02</td>\n",
       "      <td>0.000000e+00</td>\n",
       "    </tr>\n",
       "    <tr>\n",
       "      <th>50%</th>\n",
       "      <td>1.411733e+09</td>\n",
       "      <td>3.687000e+03</td>\n",
       "      <td>0.000000e+00</td>\n",
       "      <td>-6.261588e+00</td>\n",
       "      <td>5.334552e+01</td>\n",
       "      <td>6.400000e+01</td>\n",
       "      <td>3.361600e+04</td>\n",
       "      <td>1.934000e+03</td>\n",
       "      <td>0.000000e+00</td>\n",
       "    </tr>\n",
       "    <tr>\n",
       "      <th>75%</th>\n",
       "      <td>1.411745e+09</td>\n",
       "      <td>5.304000e+03</td>\n",
       "      <td>0.000000e+00</td>\n",
       "      <td>-6.233367e+00</td>\n",
       "      <td>5.336943e+01</td>\n",
       "      <td>2.950000e+02</td>\n",
       "      <td>4.002000e+04</td>\n",
       "      <td>3.905000e+03</td>\n",
       "      <td>0.000000e+00</td>\n",
       "    </tr>\n",
       "    <tr>\n",
       "      <th>max</th>\n",
       "      <td>1.411756e+09</td>\n",
       "      <td>9.969440e+05</td>\n",
       "      <td>1.000000e+00</td>\n",
       "      <td>-6.053133e+00</td>\n",
       "      <td>5.360652e+01</td>\n",
       "      <td>1.172300e+04</td>\n",
       "      <td>4.403400e+04</td>\n",
       "      <td>7.572000e+03</td>\n",
       "      <td>1.000000e+00</td>\n",
       "    </tr>\n",
       "  </tbody>\n",
       "</table>\n",
       "</div>"
      ],
      "text/plain": [
       "               Time    VehicleJID    Congestion           Lon           Lat         Delay     VehicleID        StopID        AtStop\n",
       "count  1.048575e+06  1.048575e+06  1.048575e+06  1.048575e+06  1.048575e+06  1.048575e+06  1.048575e+06  1.048575e+06  1.048575e+06\n",
       "mean   1.411733e+09  9.977111e+03  6.713874e-03 -6.270000e+00  5.334311e+01  1.513641e+02  3.659187e+04  2.472550e+03  2.197182e-01\n",
       "std    1.397623e+04  7.739258e+04  8.166274e-02  7.979334e-02  5.285900e-02  6.200250e+02  4.065003e+03  2.065485e+03  4.140559e-01\n",
       "min    1.411686e+09  1.000000e+00  0.000000e+00 -6.614652e+00  5.307042e+01 -1.420900e+04  1.800100e+04  0.000000e+00  0.000000e+00\n",
       "25%    1.411720e+09  1.994000e+03  0.000000e+00 -6.304491e+00  5.332053e+01 -5.900000e+01  3.339600e+04  7.900000e+02  0.000000e+00\n",
       "50%    1.411733e+09  3.687000e+03  0.000000e+00 -6.261588e+00  5.334552e+01  6.400000e+01  3.361600e+04  1.934000e+03  0.000000e+00\n",
       "75%    1.411745e+09  5.304000e+03  0.000000e+00 -6.233367e+00  5.336943e+01  2.950000e+02  4.002000e+04  3.905000e+03  0.000000e+00\n",
       "max    1.411756e+09  9.969440e+05  1.000000e+00 -6.053133e+00  5.360652e+01  1.172300e+04  4.403400e+04  7.572000e+03  1.000000e+00"
      ]
     },
     "execution_count": 9,
     "metadata": {},
     "output_type": "execute_result"
    }
   ],
   "source": [
    "# Printing summary statistics of numerical variables\n",
    "siri.describe()"
   ]
  },
  {
   "cell_type": "markdown",
   "metadata": {},
   "source": [
    "## Exploring independent variables"
   ]
  },
  {
   "cell_type": "code",
   "execution_count": 10,
   "metadata": {
    "ExecuteTime": {
     "end_time": "2020-07-12T18:00:25.331307Z",
     "start_time": "2020-07-12T18:00:25.281620Z"
    }
   },
   "outputs": [
    {
     "data": {
      "text/plain": [
       "array(['RD', 'HN', 'D1', 'CD', 'PO', 'SL', 'CF', 'D2'], dtype=object)"
      ]
     },
     "execution_count": 10,
     "metadata": {},
     "output_type": "execute_result"
    }
   ],
   "source": [
    "siri.Operator.unique()"
   ]
  },
  {
   "cell_type": "code",
   "execution_count": 11,
   "metadata": {
    "ExecuteTime": {
     "end_time": "2020-07-12T18:00:25.495339Z",
     "start_time": "2020-07-12T18:00:25.336531Z"
    }
   },
   "outputs": [
    {
     "data": {
      "text/plain": [
       "HN    187732\n",
       "PO    185149\n",
       "D1    138919\n",
       "RD    128832\n",
       "SL    118097\n",
       "CD    108482\n",
       "D2     99400\n",
       "CF     81964\n",
       "Name: Operator, dtype: int64"
      ]
     },
     "execution_count": 11,
     "metadata": {},
     "output_type": "execute_result"
    }
   ],
   "source": [
    "# Checking unique Operator and how many times they appear in the dataset\n",
    "siri[\"Operator\"].value_counts()"
   ]
  },
  {
   "cell_type": "markdown",
   "metadata": {},
   "source": [
    "# Data Manipulation"
   ]
  },
  {
   "cell_type": "markdown",
   "metadata": {},
   "source": [
    "## Question 4 - Manipulating\n",
    "Remove rows 1000 through 8500. What is the range, mean, standard deviation of each numeric feature in the remaining dataset? Choose one of the operators. Present the mean delay for that operator.\n"
   ]
  },
  {
   "cell_type": "code",
   "execution_count": 12,
   "metadata": {
    "ExecuteTime": {
     "end_time": "2020-07-12T18:00:25.774287Z",
     "start_time": "2020-07-12T18:00:25.497996Z"
    }
   },
   "outputs": [
    {
     "name": "stdout",
     "output_type": "stream",
     "text": [
      "<class 'pandas.core.frame.DataFrame'>\n",
      "Int64Index: 1041074 entries, 0 to 1048574\n",
      "Data columns (total 12 columns):\n",
      " #   Column          Non-Null Count    Dtype  \n",
      "---  ------          --------------    -----  \n",
      " 0   Time            1041074 non-null  int64  \n",
      " 1   LineID          1041074 non-null  object \n",
      " 2   JourneyPattern  1041074 non-null  object \n",
      " 3   VehicleJID      1041074 non-null  int64  \n",
      " 4   Operator        1041074 non-null  object \n",
      " 5   Congestion      1041074 non-null  int64  \n",
      " 6   Lon             1041074 non-null  float64\n",
      " 7   Lat             1041074 non-null  float64\n",
      " 8   Delay           1041074 non-null  int64  \n",
      " 9   VehicleID       1041074 non-null  int64  \n",
      " 10  StopID          1041074 non-null  int64  \n",
      " 11  AtStop          1041074 non-null  int64  \n",
      "dtypes: float64(2), int64(7), object(3)\n",
      "memory usage: 103.3+ MB\n"
     ]
    }
   ],
   "source": [
    "siri_subsample = siri.drop(siri.index[999:8500])\n",
    "siri_subsample.info()"
   ]
  },
  {
   "cell_type": "code",
   "execution_count": 13,
   "metadata": {
    "ExecuteTime": {
     "end_time": "2020-07-12T18:00:26.133204Z",
     "start_time": "2020-07-12T18:00:25.777934Z"
    }
   },
   "outputs": [
    {
     "data": {
      "text/html": [
       "<div>\n",
       "<style scoped>\n",
       "    .dataframe tbody tr th:only-of-type {\n",
       "        vertical-align: middle;\n",
       "    }\n",
       "\n",
       "    .dataframe tbody tr th {\n",
       "        vertical-align: top;\n",
       "    }\n",
       "\n",
       "    .dataframe thead th {\n",
       "        text-align: right;\n",
       "    }\n",
       "</style>\n",
       "<table border=\"1\" class=\"dataframe\">\n",
       "  <thead>\n",
       "    <tr style=\"text-align: right;\">\n",
       "      <th></th>\n",
       "      <th>Time</th>\n",
       "      <th>VehicleJID</th>\n",
       "      <th>Congestion</th>\n",
       "      <th>Lon</th>\n",
       "      <th>Lat</th>\n",
       "      <th>Delay</th>\n",
       "      <th>VehicleID</th>\n",
       "      <th>StopID</th>\n",
       "      <th>AtStop</th>\n",
       "    </tr>\n",
       "  </thead>\n",
       "  <tbody>\n",
       "    <tr>\n",
       "      <th>count</th>\n",
       "      <td>1.041074e+06</td>\n",
       "      <td>1.041074e+06</td>\n",
       "      <td>1.041074e+06</td>\n",
       "      <td>1.041074e+06</td>\n",
       "      <td>1.041074e+06</td>\n",
       "      <td>1.041074e+06</td>\n",
       "      <td>1.041074e+06</td>\n",
       "      <td>1.041074e+06</td>\n",
       "      <td>1.041074e+06</td>\n",
       "    </tr>\n",
       "    <tr>\n",
       "      <th>mean</th>\n",
       "      <td>1.411733e+09</td>\n",
       "      <td>9.943590e+03</td>\n",
       "      <td>6.762247e-03</td>\n",
       "      <td>-6.269921e+00</td>\n",
       "      <td>5.334317e+01</td>\n",
       "      <td>1.526865e+02</td>\n",
       "      <td>3.658357e+04</td>\n",
       "      <td>2.466148e+03</td>\n",
       "      <td>2.193600e-01</td>\n",
       "    </tr>\n",
       "    <tr>\n",
       "      <th>std</th>\n",
       "      <td>1.368251e+04</td>\n",
       "      <td>7.719045e+04</td>\n",
       "      <td>8.195441e-02</td>\n",
       "      <td>7.956155e-02</td>\n",
       "      <td>5.267330e-02</td>\n",
       "      <td>6.214491e+02</td>\n",
       "      <td>4.064981e+03</td>\n",
       "      <td>2.063096e+03</td>\n",
       "      <td>4.138132e-01</td>\n",
       "    </tr>\n",
       "    <tr>\n",
       "      <th>min</th>\n",
       "      <td>1.411686e+09</td>\n",
       "      <td>1.000000e+00</td>\n",
       "      <td>0.000000e+00</td>\n",
       "      <td>-6.614652e+00</td>\n",
       "      <td>5.307042e+01</td>\n",
       "      <td>-1.420900e+04</td>\n",
       "      <td>1.800100e+04</td>\n",
       "      <td>0.000000e+00</td>\n",
       "      <td>0.000000e+00</td>\n",
       "    </tr>\n",
       "    <tr>\n",
       "      <th>25%</th>\n",
       "      <td>1.411720e+09</td>\n",
       "      <td>1.994000e+03</td>\n",
       "      <td>0.000000e+00</td>\n",
       "      <td>-6.304279e+00</td>\n",
       "      <td>5.332064e+01</td>\n",
       "      <td>-5.800000e+01</td>\n",
       "      <td>3.339500e+04</td>\n",
       "      <td>7.900000e+02</td>\n",
       "      <td>0.000000e+00</td>\n",
       "    </tr>\n",
       "    <tr>\n",
       "      <th>50%</th>\n",
       "      <td>1.411733e+09</td>\n",
       "      <td>3.686000e+03</td>\n",
       "      <td>0.000000e+00</td>\n",
       "      <td>-6.261579e+00</td>\n",
       "      <td>5.334552e+01</td>\n",
       "      <td>6.500000e+01</td>\n",
       "      <td>3.361500e+04</td>\n",
       "      <td>1.934000e+03</td>\n",
       "      <td>0.000000e+00</td>\n",
       "    </tr>\n",
       "    <tr>\n",
       "      <th>75%</th>\n",
       "      <td>1.411745e+09</td>\n",
       "      <td>5.301000e+03</td>\n",
       "      <td>0.000000e+00</td>\n",
       "      <td>-6.233417e+00</td>\n",
       "      <td>5.336941e+01</td>\n",
       "      <td>2.970000e+02</td>\n",
       "      <td>4.002000e+04</td>\n",
       "      <td>3.886000e+03</td>\n",
       "      <td>0.000000e+00</td>\n",
       "    </tr>\n",
       "    <tr>\n",
       "      <th>max</th>\n",
       "      <td>1.411756e+09</td>\n",
       "      <td>9.969440e+05</td>\n",
       "      <td>1.000000e+00</td>\n",
       "      <td>-6.053133e+00</td>\n",
       "      <td>5.360652e+01</td>\n",
       "      <td>1.172300e+04</td>\n",
       "      <td>4.403400e+04</td>\n",
       "      <td>7.572000e+03</td>\n",
       "      <td>1.000000e+00</td>\n",
       "    </tr>\n",
       "  </tbody>\n",
       "</table>\n",
       "</div>"
      ],
      "text/plain": [
       "               Time    VehicleJID    Congestion           Lon           Lat         Delay     VehicleID        StopID        AtStop\n",
       "count  1.041074e+06  1.041074e+06  1.041074e+06  1.041074e+06  1.041074e+06  1.041074e+06  1.041074e+06  1.041074e+06  1.041074e+06\n",
       "mean   1.411733e+09  9.943590e+03  6.762247e-03 -6.269921e+00  5.334317e+01  1.526865e+02  3.658357e+04  2.466148e+03  2.193600e-01\n",
       "std    1.368251e+04  7.719045e+04  8.195441e-02  7.956155e-02  5.267330e-02  6.214491e+02  4.064981e+03  2.063096e+03  4.138132e-01\n",
       "min    1.411686e+09  1.000000e+00  0.000000e+00 -6.614652e+00  5.307042e+01 -1.420900e+04  1.800100e+04  0.000000e+00  0.000000e+00\n",
       "25%    1.411720e+09  1.994000e+03  0.000000e+00 -6.304279e+00  5.332064e+01 -5.800000e+01  3.339500e+04  7.900000e+02  0.000000e+00\n",
       "50%    1.411733e+09  3.686000e+03  0.000000e+00 -6.261579e+00  5.334552e+01  6.500000e+01  3.361500e+04  1.934000e+03  0.000000e+00\n",
       "75%    1.411745e+09  5.301000e+03  0.000000e+00 -6.233417e+00  5.336941e+01  2.970000e+02  4.002000e+04  3.886000e+03  0.000000e+00\n",
       "max    1.411756e+09  9.969440e+05  1.000000e+00 -6.053133e+00  5.360652e+01  1.172300e+04  4.403400e+04  7.572000e+03  1.000000e+00"
      ]
     },
     "execution_count": 13,
     "metadata": {},
     "output_type": "execute_result"
    }
   ],
   "source": [
    "siri_subsample.describe()"
   ]
  },
  {
   "cell_type": "code",
   "execution_count": 14,
   "metadata": {
    "ExecuteTime": {
     "end_time": "2020-07-12T18:00:26.276738Z",
     "start_time": "2020-07-12T18:00:26.136651Z"
    }
   },
   "outputs": [
    {
     "name": "stdout",
     "output_type": "stream",
     "text": [
      "The mean Delay for the Operator HN is:  121.56836137038324\n"
     ]
    }
   ],
   "source": [
    "hn_operator = siri_subsample[siri_subsample[\"Operator\"] == \"HN\"]\n",
    "print(\"The mean Delay for the Operator HN is: \", hn_operator[\"Delay\"].mean())"
   ]
  },
  {
   "cell_type": "markdown",
   "metadata": {},
   "source": [
    "# Plotting"
   ]
  },
  {
   "cell_type": "markdown",
   "metadata": {},
   "source": [
    "## Question 5 - Plotting\n",
    "Plot the delay distribution per operator. You should have K histograms with K being the number of operators. What can we learn from this graph?\n"
   ]
  },
  {
   "cell_type": "code",
   "execution_count": 15,
   "metadata": {
    "ExecuteTime": {
     "end_time": "2020-07-12T18:00:26.345856Z",
     "start_time": "2020-07-12T18:00:26.281376Z"
    }
   },
   "outputs": [
    {
     "name": "stdout",
     "output_type": "stream",
     "text": [
      "Unique Operators:  ['RD' 'HN' 'D1' 'CD' 'PO' 'SL' 'CF' 'D2']\n"
     ]
    }
   ],
   "source": [
    "delay_dist = siri_subsample[[\"Operator\", \"Delay\"]]\n",
    "print(\"Unique Operators: \", delay_dist.Operator.unique())"
   ]
  },
  {
   "cell_type": "code",
   "execution_count": 16,
   "metadata": {
    "ExecuteTime": {
     "end_time": "2020-07-12T18:00:44.094425Z",
     "start_time": "2020-07-12T18:00:26.348798Z"
    }
   },
   "outputs": [
    {
     "data": {
      "image/png": "[encoded data removed]",
      "text/plain": [
       "<Figure size 1728x216 with 8 Axes>"
      ]
     },
     "metadata": {
      "needs_background": "light"
     },
     "output_type": "display_data"
    }
   ],
   "source": [
    "# Density   \n",
    "g = sns.FacetGrid(data=delay_dist, col = \"Operator\", hue=\"Operator\", palette=\"Set1\")\n",
    "g = (g.map(sns.distplot, \"Delay\", hist=False, rug=True))\n"
   ]
  },
  {
   "cell_type": "code",
   "execution_count": 17,
   "metadata": {
    "ExecuteTime": {
     "end_time": "2020-07-12T18:00:46.431196Z",
     "start_time": "2020-07-12T18:00:44.097809Z"
    }
   },
   "outputs": [
    {
     "data": {
      "image/png": "[encoded data removed]",
      "text/plain": [
       "<Figure size 1728x216 with 8 Axes>"
      ]
     },
     "metadata": {
      "needs_background": "light"
     },
     "output_type": "display_data"
    }
   ],
   "source": [
    "h = sns.FacetGrid(delay_dist, col=\"Operator\")\n",
    "h.map(plt.hist, \"Delay\");"
   ]
  },
  {
   "cell_type": "markdown",
   "metadata": {},
   "source": [
    "From the histograms above we can see the non-linear relationship between Operators and Delay values that can be interpreted as an extrinsic phenomenon, not forcefully caused. Possible causes might be rush hour, accidents, etc. \n",
    "It is also noticeable that CF Operator has a small number of delay occurrences but a high duration (length). D1 and D2 have a small length of individual delay episodes when compared to CF and HN that hold major lengths.\n",
    "However, if we do not consider isolated cases nor outliers we have a different understanding according to the magnitude density as shown in the scatter plot below where HN, CD, and D1 present average delays' length greater than the rest of the Operators. Moreover, RD holds a constant volume of medium to small delays and CF presenting the smaller overall delay occurrences."
   ]
  },
  {
   "cell_type": "code",
   "execution_count": 18,
   "metadata": {
    "ExecuteTime": {
     "end_time": "2020-07-12T18:01:02.826823Z",
     "start_time": "2020-07-12T18:00:46.435991Z"
    }
   },
   "outputs": [
    {
     "data": {
      "image/png": "[encoded data removed]",
      "text/plain": [
       "<Figure size 360x360 with 1 Axes>"
      ]
     },
     "metadata": {
      "needs_background": "light"
     },
     "output_type": "display_data"
    }
   ],
   "source": [
    "sns.catplot(x=\"Delay\", y=\"Operator\", jitter=False, data=delay_dist);"
   ]
  },
  {
   "cell_type": "markdown",
   "metadata": {},
   "source": [
    "# Journey"
   ]
  },
  {
   "cell_type": "markdown",
   "metadata": {},
   "source": [
    "## Question 6 - Wrangling \n",
    "We aim at predicting journey durations based on various trip characteristics. Create a dataset, where every row is a single journey, while the columns summarize all relevant journey information that would be useful to predict traveling times. Make sure that one of the columns is the total journey time.\n"
   ]
  },
  {
   "cell_type": "code",
   "execution_count": 28,
   "metadata": {
    "ExecuteTime": {
     "end_time": "2020-07-12T18:04:34.467100Z",
     "start_time": "2020-07-12T18:04:34.448487Z"
    }
   },
   "outputs": [
    {
     "name": "stdout",
     "output_type": "stream",
     "text": [
      "[0 1]\n",
      "[0 1]\n"
     ]
    }
   ],
   "source": [
    "print(siri_subsample.AtStop.unique())\n",
    "print(siri_subsample.Congestion.unique())"
   ]
  },
  {
   "cell_type": "markdown",
   "metadata": {},
   "source": [
    "The variable values above can be read this way:\n",
    "\n",
    "- Congestion = 1 when the vehicle is running, Congestion = 0 when the vehicle is stopped\n",
    "- AtStop = 1 when the vehicle has an open door (stopped), AtStop = 0 when the vehicle doors are closed (running)\n",
    "    \n",
    "As these two variables are considered duplicates / redundant and our algorithm is not running real-time, I choose to delete both from our dataset what also makes the model faster (less computational expensive).\n",
    "\n",
    "However, I decided to keep \"Operator\" and \"LineID\" for future database documentation, in case one of the operators and/or LineID changes."
   ]
  },
  {
   "cell_type": "code",
   "execution_count": 20,
   "metadata": {
    "ExecuteTime": {
     "end_time": "2020-07-12T18:01:04.749017Z",
     "start_time": "2020-07-12T18:01:02.885940Z"
    }
   },
   "outputs": [
    {
     "data": {
      "text/html": [
       "<div>\n",
       "<style scoped>\n",
       "    .dataframe tbody tr th:only-of-type {\n",
       "        vertical-align: middle;\n",
       "    }\n",
       "\n",
       "    .dataframe tbody tr th {\n",
       "        vertical-align: top;\n",
       "    }\n",
       "\n",
       "    .dataframe thead th {\n",
       "        text-align: right;\n",
       "    }\n",
       "</style>\n",
       "<table border=\"1\" class=\"dataframe\">\n",
       "  <thead>\n",
       "    <tr style=\"text-align: right;\">\n",
       "      <th></th>\n",
       "      <th>journey_pattern</th>\n",
       "      <th>mean_delay</th>\n",
       "      <th>max_time</th>\n",
       "      <th>min_time</th>\n",
       "      <th>operator</th>\n",
       "      <th>line</th>\n",
       "      <th>total_journey_time</th>\n",
       "    </tr>\n",
       "    <tr>\n",
       "      <th>VehicleJID</th>\n",
       "      <th></th>\n",
       "      <th></th>\n",
       "      <th></th>\n",
       "      <th></th>\n",
       "      <th></th>\n",
       "      <th></th>\n",
       "      <th></th>\n",
       "    </tr>\n",
       "  </thead>\n",
       "  <tbody>\n",
       "    <tr>\n",
       "      <th>1</th>\n",
       "      <td>033A1002</td>\n",
       "      <td>460.085890</td>\n",
       "      <td>1411747735</td>\n",
       "      <td>1411744132</td>\n",
       "      <td>SL</td>\n",
       "      <td>33A</td>\n",
       "      <td>3603</td>\n",
       "    </tr>\n",
       "    <tr>\n",
       "      <th>2</th>\n",
       "      <td>033A0001</td>\n",
       "      <td>1121.917722</td>\n",
       "      <td>1411751274</td>\n",
       "      <td>1411747850</td>\n",
       "      <td>SL</td>\n",
       "      <td>33A</td>\n",
       "      <td>3424</td>\n",
       "    </tr>\n",
       "  </tbody>\n",
       "</table>\n",
       "</div>"
      ],
      "text/plain": [
       "           journey_pattern   mean_delay    max_time    min_time operator line  total_journey_time\n",
       "VehicleJID                                                                                       \n",
       "1                 033A1002   460.085890  1411747735  1411744132       SL  33A                3603\n",
       "2                 033A0001  1121.917722  1411751274  1411747850       SL  33A                3424"
      ]
     },
     "execution_count": 20,
     "metadata": {},
     "output_type": "execute_result"
    }
   ],
   "source": [
    "siri_journey = siri_subsample.groupby(\"VehicleJID\").agg(journey_pattern = pd.NamedAgg(\n",
    "    column=\"JourneyPattern\", aggfunc=np.unique), mean_delay = pd.NamedAgg(\n",
    "    column=\"Delay\", aggfunc=np.mean), max_time = pd.NamedAgg(\n",
    "    column=\"Time\", aggfunc=\"max\"), min_time = pd.NamedAgg(column=\"Time\", aggfunc=\"min\"),\n",
    "    operator = pd.NamedAgg(column=\"Operator\", aggfunc=np.unique),\n",
    "    line = pd.NamedAgg(column=\"LineID\", aggfunc=np.unique))\n",
    "siri_journey[\"total_journey_time\"] = siri_journey[\"max_time\"] - siri_journey[\"min_time\"]\n",
    "siri_journey.head(2)\n"
   ]
  },
  {
   "cell_type": "code",
   "execution_count": 21,
   "metadata": {
    "ExecuteTime": {
     "end_time": "2020-07-12T18:01:04.767505Z",
     "start_time": "2020-07-12T18:01:04.752223Z"
    }
   },
   "outputs": [
    {
     "data": {
      "text/plain": [
       "journey_pattern       0\n",
       "mean_delay            0\n",
       "max_time              0\n",
       "min_time              0\n",
       "operator              0\n",
       "line                  0\n",
       "total_journey_time    0\n",
       "dtype: int64"
      ]
     },
     "execution_count": 21,
     "metadata": {},
     "output_type": "execute_result"
    }
   ],
   "source": [
    "# Checking for Null values and outliers after manipulation \n",
    "siri_journey.isnull().sum()"
   ]
  },
  {
   "cell_type": "code",
   "execution_count": 22,
   "metadata": {
    "ExecuteTime": {
     "end_time": "2020-07-12T18:01:04.833193Z",
     "start_time": "2020-07-12T18:01:04.801579Z"
    }
   },
   "outputs": [
    {
     "name": "stdout",
     "output_type": "stream",
     "text": [
      "<class 'pandas.core.frame.DataFrame'>\n",
      "Int64Index: 5961 entries, 1 to 996944\n",
      "Data columns (total 7 columns):\n",
      " #   Column              Non-Null Count  Dtype  \n",
      "---  ------              --------------  -----  \n",
      " 0   journey_pattern     5961 non-null   object \n",
      " 1   mean_delay          5961 non-null   float64\n",
      " 2   max_time            5961 non-null   int64  \n",
      " 3   min_time            5961 non-null   int64  \n",
      " 4   operator            5961 non-null   object \n",
      " 5   line                5961 non-null   object \n",
      " 6   total_journey_time  5961 non-null   int64  \n",
      "dtypes: float64(1), int64(3), object(3)\n",
      "memory usage: 372.6+ KB\n"
     ]
    }
   ],
   "source": [
    "# Double checking data type, size, etc.\n",
    "siri_journey.info()"
   ]
  },
  {
   "cell_type": "markdown",
   "metadata": {},
   "source": [
    "# Correlation Plot"
   ]
  },
  {
   "cell_type": "markdown",
   "metadata": {
    "ExecuteTime": {
     "end_time": "2020-07-11T18:57:09.691266Z",
     "start_time": "2020-07-11T18:57:09.682983Z"
    }
   },
   "source": [
    "Obs.: I am not aiming to answer Question 7 with the next plot. The answer will come further down.\n",
    "\n",
    "\n",
    "This heat map is based on the whole dataset and Colors are as follows:\n",
    "    * Dark Red: Positive correlation,\n",
    "    * Dark Blue: Negative correlation."
   ]
  },
  {
   "cell_type": "code",
   "execution_count": 23,
   "metadata": {
    "ExecuteTime": {
     "end_time": "2020-07-12T18:01:05.441095Z",
     "start_time": "2020-07-12T18:01:04.837814Z"
    }
   },
   "outputs": [
    {
     "data": {
      "image/png": "[encoded data removed]",
      "text/plain": [
       "<Figure size 864x720 with 2 Axes>"
      ]
     },
     "metadata": {
      "needs_background": "light"
     },
     "output_type": "display_data"
    }
   ],
   "source": [
    "dtset = siri\n",
    "correlation = siri.corr() # data correlation \n",
    "fig = plt.figure(figsize=(12, 10))\n",
    "ax = fig.add_subplot(212)\n",
    "sns.heatmap(correlation, ax=ax, cmap=\"coolwarm\", linewidths = 0.5)\n",
    "# fig.colorbar(cax)\n",
    "ticks = np.arange(0,len(siri.columns),1)\n",
    "ax.set_xticks(ticks)\n",
    "plt.xticks(rotation=60)\n",
    "ax.set_yticks(ticks)\n",
    "ax.set_xticklabels(siri.columns)\n",
    "ax.set_yticklabels(siri.columns)\n",
    "plt.show()"
   ]
  },
  {
   "cell_type": "markdown",
   "metadata": {},
   "source": [
    "## Question 7 - Correlating\n",
    "Plot the traveling time as function of at least 2 journey level features (e.g., average delay) to test correlation of those features with travel times. What are your main findings?\n",
    "\n",
    "From the earlier plot, we could see that there is ...\n",
    "- A strong negative correlation between:\n",
    "    - VehicleJID, Operator, and Latitude, followed by Congestion;\n",
    "    - Operator and VehicleJID\n",
    "    \n",
    "    \n",
    "- A mild correlation between:\n",
    "    - JourneyPattern and all variables except Congestion and Latitude; \n",
    "    - Longitude and Congestion\n",
    "    \n",
    "    \n",
    "- A weak correlation between:\n",
    "    - Time and Congestion; \n",
    "    - Longitude and VehicleJID\n",
    "    \n",
    "    \n",
    "- No Positive correlation is presented in the original dataset."
   ]
  },
  {
   "cell_type": "code",
   "execution_count": 24,
   "metadata": {
    "ExecuteTime": {
     "end_time": "2020-07-12T18:01:09.499886Z",
     "start_time": "2020-07-12T18:01:05.451603Z"
    }
   },
   "outputs": [
    {
     "data": {
      "image/png": "[encoded data removed]",
      "text/plain": [
       "<Figure size 720x720 with 16 Axes>"
      ]
     },
     "metadata": {
      "needs_background": "light"
     },
     "output_type": "display_data"
    }
   ],
   "source": [
    "g = sns.pairplot(siri_journey, diag_kind=\"reg\")"
   ]
  },
  {
   "cell_type": "markdown",
   "metadata": {},
   "source": [
    "From the graphs above we state that there is no linear correlation between total journey time and average delay. Values are scattered with consistent outliers among studied variables. As expected, there is a positive linear relationship between the minimum and maximum journey time, so it does not reveal much.\n",
    "\n",
    "The next graph is a grouped pixiedust bar chart, using MatPlotLib library as a renderer, aggregation by average values, clustered by LineID, and the image runs on the X-axis, it needs to roll the graph to the right to see the whole chart. It shows that in every journey pattern there is an average of 10 percent of delay in comparison to the total journey time. As the total Journey Time has values below 10,000 and the Average Delay values are below 1,000. Still, there is no linear relationship between these variables.\n"
   ]
  },
  {
   "cell_type": "code",
   "execution_count": 25,
   "metadata": {
    "ExecuteTime": {
     "end_time": "2020-07-12T18:01:09.780229Z",
     "start_time": "2020-07-12T18:01:09.502365Z"
    },
    "pixiedust": {
     "displayParams": {
      "aggregation": "AVG",
      "binsize": "62",
      "chartsize": "100",
      "charttype": "grouped",
      "clusterby": "line",
      "handlerId": "barChart",
      "histoChartType": "subplots",
      "keyFields": "journey_pattern",
      "mapboxtoken": "pk.eyJ1Ijoib2xpdmVpcmFjZWxpb3IiLCJhIjoiY2tjaWJwdnIyMTgyMTJ5bWs3aGFxNXE0OSJ9.RT9sYoK0Ie5PNAUK3FxAUw",
      "mpld3": "false",
      "orientation": "vertical",
      "rendererId": "mapbox",
      "rowCount": "1000",
      "sortby": "Keys ASC",
      "stretch": "true",
      "tableFields": "journey_pattern,mean_delay,total_journey_time",
      "table_noschema": "false",
      "timeseries": "true",
      "title": "Total Journey vs Delay",
      "valueFields": "total_journey_time,mean_delay"
     }
    }
   },
   "outputs": [
    {
     "data": {
      "text/html": [
       "<style type=\"text/css\">.pd_warning{display:none;}</style><div class=\"pd_warning\"><em>Hey, there's something awesome here! To see it, open this notebook outside GitHub, in a viewer like Jupyter</em></div>"
      ],
      "text/plain": [
       "<IPython.core.display.HTML object>"
      ]
     },
     "metadata": {
      "pixieapp_metadata": null
     },
     "output_type": "display_data"
    }
   ],
   "source": [
    "display(siri_journey)"
   ]
  },
  {
   "cell_type": "markdown",
   "metadata": {},
   "source": [
    "## Extra\n",
    "Converting time variable from unix seconds since epoch to datetime"
   ]
  },
  {
   "cell_type": "code",
   "execution_count": 26,
   "metadata": {
    "ExecuteTime": {
     "end_time": "2020-07-12T18:01:13.221626Z",
     "start_time": "2020-07-12T18:01:09.783641Z"
    }
   },
   "outputs": [
    {
     "data": {
      "text/html": [
       "<div>\n",
       "<style scoped>\n",
       "    .dataframe tbody tr th:only-of-type {\n",
       "        vertical-align: middle;\n",
       "    }\n",
       "\n",
       "    .dataframe tbody tr th {\n",
       "        vertical-align: top;\n",
       "    }\n",
       "\n",
       "    .dataframe thead th {\n",
       "        text-align: right;\n",
       "    }\n",
       "</style>\n",
       "<table border=\"1\" class=\"dataframe\">\n",
       "  <thead>\n",
       "    <tr style=\"text-align: right;\">\n",
       "      <th></th>\n",
       "      <th>Time</th>\n",
       "      <th>LineID</th>\n",
       "      <th>JourneyPattern</th>\n",
       "      <th>VehicleJID</th>\n",
       "      <th>Operator</th>\n",
       "      <th>Congestion</th>\n",
       "      <th>Lon</th>\n",
       "      <th>Lat</th>\n",
       "      <th>Delay</th>\n",
       "      <th>VehicleID</th>\n",
       "      <th>StopID</th>\n",
       "      <th>AtStop</th>\n",
       "    </tr>\n",
       "  </thead>\n",
       "  <tbody>\n",
       "    <tr>\n",
       "      <th>0</th>\n",
       "      <td>2014-09-25 23:00:00</td>\n",
       "      <td>65B</td>\n",
       "      <td>065B1001</td>\n",
       "      <td>7251</td>\n",
       "      <td>RD</td>\n",
       "      <td>0</td>\n",
       "      <td>-6.266066</td>\n",
       "      <td>53.338269</td>\n",
       "      <td>-739</td>\n",
       "      <td>38004</td>\n",
       "      <td>1354</td>\n",
       "      <td>0</td>\n",
       "    </tr>\n",
       "    <tr>\n",
       "      <th>1</th>\n",
       "      <td>2014-09-25 23:00:00</td>\n",
       "      <td>13</td>\n",
       "      <td>00131002</td>\n",
       "      <td>1809</td>\n",
       "      <td>HN</td>\n",
       "      <td>0</td>\n",
       "      <td>-6.266332</td>\n",
       "      <td>53.408386</td>\n",
       "      <td>1127</td>\n",
       "      <td>33342</td>\n",
       "      <td>323</td>\n",
       "      <td>0</td>\n",
       "    </tr>\n",
       "    <tr>\n",
       "      <th>2</th>\n",
       "      <td>2014-09-25 23:00:00</td>\n",
       "      <td>7</td>\n",
       "      <td>00070004</td>\n",
       "      <td>4235</td>\n",
       "      <td>D1</td>\n",
       "      <td>0</td>\n",
       "      <td>-6.130316</td>\n",
       "      <td>53.254202</td>\n",
       "      <td>-420</td>\n",
       "      <td>44016</td>\n",
       "      <td>3219</td>\n",
       "      <td>0</td>\n",
       "    </tr>\n",
       "    <tr>\n",
       "      <th>3</th>\n",
       "      <td>2014-09-25 23:00:00</td>\n",
       "      <td>25</td>\n",
       "      <td>025B0001</td>\n",
       "      <td>5757</td>\n",
       "      <td>CD</td>\n",
       "      <td>0</td>\n",
       "      <td>-6.446961</td>\n",
       "      <td>53.344495</td>\n",
       "      <td>143</td>\n",
       "      <td>33608</td>\n",
       "      <td>3370</td>\n",
       "      <td>0</td>\n",
       "    </tr>\n",
       "    <tr>\n",
       "      <th>4</th>\n",
       "      <td>2014-09-25 23:00:01</td>\n",
       "      <td>27</td>\n",
       "      <td>077A0001</td>\n",
       "      <td>2602</td>\n",
       "      <td>RD</td>\n",
       "      <td>0</td>\n",
       "      <td>-6.341833</td>\n",
       "      <td>53.289558</td>\n",
       "      <td>45</td>\n",
       "      <td>33520</td>\n",
       "      <td>2596</td>\n",
       "      <td>0</td>\n",
       "    </tr>\n",
       "  </tbody>\n",
       "</table>\n",
       "</div>"
      ],
      "text/plain": [
       "                  Time LineID JourneyPattern  VehicleJID Operator  Congestion       Lon        Lat  Delay  VehicleID  StopID  AtStop\n",
       "0  2014-09-25 23:00:00    65B       065B1001        7251       RD           0 -6.266066  53.338269   -739      38004    1354       0\n",
       "1  2014-09-25 23:00:00     13       00131002        1809       HN           0 -6.266332  53.408386   1127      33342     323       0\n",
       "2  2014-09-25 23:00:00      7       00070004        4235       D1           0 -6.130316  53.254202   -420      44016    3219       0\n",
       "3  2014-09-25 23:00:00     25       025B0001        5757       CD           0 -6.446961  53.344495    143      33608    3370       0\n",
       "4  2014-09-25 23:00:01     27       077A0001        2602       RD           0 -6.341833  53.289558     45      33520    2596       0"
      ]
     },
     "execution_count": 26,
     "metadata": {},
     "output_type": "execute_result"
    }
   ],
   "source": [
    "# Iterate over Time column and convert seconds to datetime since epoch (JAN/01/1970)\n",
    "siri.Time = [time.strftime('%Y-%m-%d %H:%M%:%S',time.gmtime(x)) for x in siri[\"Time\"]]\n",
    "siri.head()"
   ]
  },
  {
   "cell_type": "code",
   "execution_count": 27,
   "metadata": {
    "ExecuteTime": {
     "end_time": "2020-07-12T18:01:13.570690Z",
     "start_time": "2020-07-12T18:01:13.226327Z"
    }
   },
   "outputs": [
    {
     "name": "stdout",
     "output_type": "stream",
     "text": [
      "Time is a datatype  object  and ranges from  2014-09-25 23:00:00  to  2014-09-26 18:18:40\n"
     ]
    }
   ],
   "source": [
    "print(\"Time is a datatype \", siri.Time.dtype, \" and ranges from \", min(siri.Time), \" to \", max(siri.Time)) "
   ]
  },
  {
   "cell_type": "code",
   "execution_count": null,
   "metadata": {},
   "outputs": [],
   "source": []
  }
 ],
 "metadata": {
  "kernelspec": {
   "display_name": "Python 3",
   "language": "python",
   "name": "python3"
  },
  "language_info": {
   "codemirror_mode": {
    "name": "ipython",
    "version": 3
   },
   "file_extension": ".py",
   "mimetype": "text/x-python",
   "name": "python",
   "nbconvert_exporter": "python",
   "pygments_lexer": "ipython3",
   "version": "3.7.6"
  },
  "latex_envs": {
   "LaTeX_envs_menu_present": true,
   "autoclose": false,
   "autocomplete": true,
   "bibliofile": "biblio.bib",
   "cite_by": "apalike",
   "current_citInitial": 1,
   "eqLabelWithNumbers": true,
   "eqNumInitial": 1,
   "hotkeys": {
    "equation": "Ctrl-E",
    "itemize": "Ctrl-I"
   },
   "labels_anchors": false,
   "latex_user_defs": false,
   "report_style_numbering": false,
   "user_envs_cfg": false
  },
  "toc": {
   "base_numbering": 1,
   "nav_menu": {},
   "number_sections": true,
   "sideBar": true,
   "skip_h1_title": false,
   "title_cell": "Table of Contents",
   "title_sidebar": "Contents",
   "toc_cell": true,
   "toc_position": {},
   "toc_section_display": true,
   "toc_window_display": false
  }
 },
 "nbformat": 4,
 "nbformat_minor": 4
}
