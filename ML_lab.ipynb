{
 "cells": [
  {
   "cell_type": "markdown",
   "metadata": {
    "toc": true
   },
   "source": [
    "<h1>Table of Contents<span class=\"tocSkip\"></span></h1>\n",
    "<div class=\"toc\"><ul class=\"toc-item\"><li><span><a href=\"#Creating-the-environment\" data-toc-modified-id=\"Creating-the-environment-1\"><span class=\"toc-item-num\">1&nbsp;&nbsp;</span>Creating the environment</a></span><ul class=\"toc-item\"><li><span><a href=\"#Installing-libraries\" data-toc-modified-id=\"Installing-libraries-1.1\"><span class=\"toc-item-num\">1.1&nbsp;&nbsp;</span>Installing libraries</a></span></li><li><span><a href=\"#Importing-modules\" data-toc-modified-id=\"Importing-modules-1.2\"><span class=\"toc-item-num\">1.2&nbsp;&nbsp;</span>Importing modules</a></span></li><li><span><a href=\"#Checking-system-and-setting-it-up\" data-toc-modified-id=\"Checking-system-and-setting-it-up-1.3\"><span class=\"toc-item-num\">1.3&nbsp;&nbsp;</span>Checking system and setting it up</a></span></li></ul></li><li><span><a href=\"#Data-exploration\" data-toc-modified-id=\"Data-exploration-2\"><span class=\"toc-item-num\">2&nbsp;&nbsp;</span>Data exploration</a></span><ul class=\"toc-item\"><li><span><a href=\"#Data-exploration-shortcut\" data-toc-modified-id=\"Data-exploration-shortcut-2.1\"><span class=\"toc-item-num\">2.1&nbsp;&nbsp;</span>Data exploration shortcut</a></span></li><li><span><a href=\"#Exploring-independent-variables\" data-toc-modified-id=\"Exploring-independent-variables-2.2\"><span class=\"toc-item-num\">2.2&nbsp;&nbsp;</span>Exploring independent variables</a></span></li></ul></li><li><span><a href=\"#Correlation-Analysis\" data-toc-modified-id=\"Correlation-Analysis-3\"><span class=\"toc-item-num\">3&nbsp;&nbsp;</span>Correlation Analysis</a></span></li></ul></div>"
   ]
  },
  {
   "cell_type": "markdown",
   "metadata": {},
   "source": [
    "# Creating the environment "
   ]
  },
  {
   "cell_type": "markdown",
   "metadata": {},
   "source": [
    "## Installing libraries"
   ]
  },
  {
   "cell_type": "code",
   "execution_count": 1,
   "metadata": {
    "ExecuteTime": {
     "end_time": "2020-07-07T17:12:20.861548Z",
     "start_time": "2020-07-07T17:12:20.858025Z"
    }
   },
   "outputs": [],
   "source": [
    "# Installing modules\n",
    "# !pip install plotly"
   ]
  },
  {
   "cell_type": "markdown",
   "metadata": {},
   "source": [
    "## Importing modules"
   ]
  },
  {
   "cell_type": "code",
   "execution_count": 2,
   "metadata": {
    "ExecuteTime": {
     "end_time": "2020-07-07T17:12:35.209106Z",
     "start_time": "2020-07-07T17:12:20.951774Z"
    }
   },
   "outputs": [
    {
     "name": "stdout",
     "output_type": "stream",
     "text": [
      "Importing libraries ... \n",
      "Pixiedust database opened successfully\n"
     ]
    },
    {
     "data": {
      "text/html": [
       "\n",
       "        <div style=\"margin:10px\">\n",
       "            <a href=\"https://github.com/ibm-watson-data-lab/pixiedust\" target=\"_new\">\n",
       "                <img src=\"https://github.com/ibm-watson-data-lab/pixiedust/raw/master/docs/_static/pd_icon32.png\" style=\"float:left;margin-right:10px\"/>\n",
       "            </a>\n",
       "            <span>Pixiedust version 1.1.18</span>\n",
       "        </div>\n",
       "        "
      ],
      "text/plain": [
       "<IPython.core.display.HTML object>"
      ]
     },
     "metadata": {},
     "output_type": "display_data"
    },
    {
     "name": "stdout",
     "output_type": "stream",
     "text": [
      "All modules are ready\n"
     ]
    }
   ],
   "source": [
    "\n",
    "# Importing libraries\n",
    "print(\"Importing libraries ... \")\n",
    "import pandas as pd\n",
    "import numpy as np\n",
    "import pixiedust\n",
    "import seaborn as sns\n",
    "from scipy.stats.distributions import norm\n",
    "import matplotlib.pyplot as plt\n",
    "import plotly.graph_objs as go\n",
    "import plotly.offline as py\n",
    "print(\"All modules are ready\")\n",
    "\n",
    "\n"
   ]
  },
  {
   "cell_type": "markdown",
   "metadata": {},
   "source": [
    "## Checking system and setting it up"
   ]
  },
  {
   "cell_type": "code",
   "execution_count": 3,
   "metadata": {
    "ExecuteTime": {
     "end_time": "2020-07-07T17:12:35.286989Z",
     "start_time": "2020-07-07T17:12:35.220766Z"
    }
   },
   "outputs": [
    {
     "name": "stdout",
     "output_type": "stream",
     "text": [
      "Python version:  3.7.6 (default, Jan  8 2020, 13:42:34) \n",
      "[Clang 4.0.1 (tags/RELEASE_401/final)] \n",
      "\n",
      "This kernel has  4 cores and memory usage of: svmem(total=8589934592, available=3477413888, percent=59.5, used=4744404992, free=16293888, active=3462582272, inactive=3446333440, wired=1281822720) \n",
      "\n",
      "File directory /Users/speedy/Desktop/UofT/Course load/INF2179H - Machine Learning/Notebooks\n"
     ]
    }
   ],
   "source": [
    "# Setting up the system\n",
    "\n",
    "def settings():\n",
    "    # Display python version and operational system-specif parameters \n",
    "    import sys\n",
    "    print(\"Python version: \", sys.version, \"\\n\")\n",
    "\n",
    "    # Check the number of cores and memory usage\n",
    "    import multiprocessing as mp\n",
    "    num_cores = mp.cpu_count()\n",
    "    import psutil\n",
    "    print(\"This kernel has \", num_cores, \"cores and memory usage of:\", psutil.virtual_memory(), \"\\n\")\n",
    "\n",
    "    # # Check Dask and Hosting the diagnostics dashboard\n",
    "    # cluster = LocalCluster()\n",
    "    # client = Client(cluster)\n",
    "    # client\n",
    "\n",
    "    # Expands the visualization of a matrix\n",
    "    pd.set_option('display.max_columns', 500)\n",
    "    pd.set_option('display.max_rows', 500)\n",
    "    pd.set_option('display.width', 500)\n",
    "    \n",
    "    #Checking the directory we are working on\n",
    "    import os\n",
    "    print(\"File directory\", os.getcwd())\n",
    "\n",
    "settings()"
   ]
  },
  {
   "cell_type": "markdown",
   "metadata": {},
   "source": [
    "# Data exploration"
   ]
  },
  {
   "cell_type": "code",
   "execution_count": 4,
   "metadata": {
    "ExecuteTime": {
     "end_time": "2020-07-07T17:12:37.481660Z",
     "start_time": "2020-07-07T17:12:35.305013Z"
    }
   },
   "outputs": [
    {
     "data": {
      "text/html": [
       "<div>\n",
       "<style scoped>\n",
       "    .dataframe tbody tr th:only-of-type {\n",
       "        vertical-align: middle;\n",
       "    }\n",
       "\n",
       "    .dataframe tbody tr th {\n",
       "        vertical-align: top;\n",
       "    }\n",
       "\n",
       "    .dataframe thead th {\n",
       "        text-align: right;\n",
       "    }\n",
       "</style>\n",
       "<table border=\"1\" class=\"dataframe\">\n",
       "  <thead>\n",
       "    <tr style=\"text-align: right;\">\n",
       "      <th></th>\n",
       "      <th>Time</th>\n",
       "      <th>LineID</th>\n",
       "      <th>JourneyPattern</th>\n",
       "      <th>VehicleJID</th>\n",
       "      <th>Operator</th>\n",
       "      <th>Congestion</th>\n",
       "      <th>Lon</th>\n",
       "      <th>Lat</th>\n",
       "      <th>Delay</th>\n",
       "      <th>VehicleID</th>\n",
       "      <th>StopID</th>\n",
       "      <th>AtStop</th>\n",
       "    </tr>\n",
       "  </thead>\n",
       "  <tbody>\n",
       "    <tr>\n",
       "      <th>0</th>\n",
       "      <td>1411686000</td>\n",
       "      <td>65B</td>\n",
       "      <td>065B1001</td>\n",
       "      <td>7251</td>\n",
       "      <td>RD</td>\n",
       "      <td>0</td>\n",
       "      <td>-6.266066</td>\n",
       "      <td>53.338269</td>\n",
       "      <td>-739</td>\n",
       "      <td>38004</td>\n",
       "      <td>1354</td>\n",
       "      <td>0</td>\n",
       "    </tr>\n",
       "    <tr>\n",
       "      <th>1</th>\n",
       "      <td>1411686000</td>\n",
       "      <td>13</td>\n",
       "      <td>00131002</td>\n",
       "      <td>1809</td>\n",
       "      <td>HN</td>\n",
       "      <td>0</td>\n",
       "      <td>-6.266332</td>\n",
       "      <td>53.408386</td>\n",
       "      <td>1127</td>\n",
       "      <td>33342</td>\n",
       "      <td>323</td>\n",
       "      <td>0</td>\n",
       "    </tr>\n",
       "  </tbody>\n",
       "</table>\n",
       "</div>"
      ],
      "text/plain": [
       "         Time LineID JourneyPattern  VehicleJID Operator  Congestion       Lon        Lat  Delay  VehicleID  StopID  AtStop\n",
       "0  1411686000    65B       065B1001        7251       RD           0 -6.266066  53.338269   -739      38004    1354       0\n",
       "1  1411686000     13       00131002        1809       HN           0 -6.266332  53.408386   1127      33342     323       0"
      ]
     },
     "execution_count": 4,
     "metadata": {},
     "output_type": "execute_result"
    }
   ],
   "source": [
    "# reading dataset\n",
    "siri = pd.read_csv(\"Data/SiriLog.csv\")\n",
    "\n",
    "# printing the first two lines on the dataset\n",
    "siri.head(2)"
   ]
  },
  {
   "cell_type": "code",
   "execution_count": 5,
   "metadata": {
    "ExecuteTime": {
     "end_time": "2020-07-07T17:12:39.729979Z",
     "start_time": "2020-07-07T17:12:37.490166Z"
    }
   },
   "outputs": [
    {
     "name": "stdout",
     "output_type": "stream",
     "text": [
      "Dataset type is:  <class 'pandas.core.frame.DataFrame'> \n",
      "\n",
      "The data shape is:  (1048575, 12) \n",
      "\n",
      "This dataset has  0 duplicated values\n",
      "\n",
      "Column names are:  Index(['Time', 'LineID', 'JourneyPattern', 'VehicleJID', 'Operator', 'Congestion', 'Lon', 'Lat', 'Delay', 'VehicleID', 'StopID', 'AtStop'], dtype='object')\n"
     ]
    }
   ],
   "source": [
    "# Exploration 1st step\n",
    "def exploration():\n",
    "    # Dataset type\n",
    "    print(\"Dataset type is: \", type(siri), \"\\n\")\n",
    "    \n",
    "    # Data shape\n",
    "    print(\"The data shape is: \", siri.shape, \"\\n\")\n",
    "    \n",
    "    # Checking for duplicates\n",
    "    dup = siri.duplicated().sum()\n",
    "    print(\"This dataset has \", dup, \"duplicated values\\n\")\n",
    "    \n",
    "    # Column names\n",
    "    print(\"Column names are: \", siri.columns)\n",
    "    \n",
    "\n",
    "exploration()"
   ]
  },
  {
   "cell_type": "code",
   "execution_count": 6,
   "metadata": {
    "ExecuteTime": {
     "end_time": "2020-07-07T17:12:40.010267Z",
     "start_time": "2020-07-07T17:12:39.755578Z"
    }
   },
   "outputs": [
    {
     "data": {
      "text/plain": [
       "Time              0\n",
       "LineID            0\n",
       "JourneyPattern    0\n",
       "VehicleJID        0\n",
       "Operator          0\n",
       "Congestion        0\n",
       "Lon               0\n",
       "Lat               0\n",
       "Delay             0\n",
       "VehicleID         0\n",
       "StopID            0\n",
       "AtStop            0\n",
       "dtype: int64"
      ]
     },
     "execution_count": 6,
     "metadata": {},
     "output_type": "execute_result"
    }
   ],
   "source": [
    "# Checking null values\n",
    "siri.isnull().sum()"
   ]
  },
  {
   "cell_type": "code",
   "execution_count": 7,
   "metadata": {
    "ExecuteTime": {
     "end_time": "2020-07-07T17:12:40.041658Z",
     "start_time": "2020-07-07T17:12:40.015734Z"
    }
   },
   "outputs": [
    {
     "data": {
      "text/plain": [
       "Time                int64\n",
       "LineID             object\n",
       "JourneyPattern     object\n",
       "VehicleJID          int64\n",
       "Operator           object\n",
       "Congestion          int64\n",
       "Lon               float64\n",
       "Lat               float64\n",
       "Delay               int64\n",
       "VehicleID           int64\n",
       "StopID              int64\n",
       "AtStop              int64\n",
       "dtype: object"
      ]
     },
     "execution_count": 7,
     "metadata": {},
     "output_type": "execute_result"
    }
   ],
   "source": [
    "siri.dtypes"
   ]
  },
  {
   "cell_type": "markdown",
   "metadata": {},
   "source": [
    "Most of the initial exploration can be done simply by using the dataframe.info() command"
   ]
  },
  {
   "cell_type": "markdown",
   "metadata": {},
   "source": [
    "## Data exploration shortcut"
   ]
  },
  {
   "cell_type": "code",
   "execution_count": 8,
   "metadata": {
    "ExecuteTime": {
     "end_time": "2020-07-07T17:12:40.295718Z",
     "start_time": "2020-07-07T17:12:40.051797Z"
    }
   },
   "outputs": [
    {
     "name": "stdout",
     "output_type": "stream",
     "text": [
      "<class 'pandas.core.frame.DataFrame'>\n",
      "RangeIndex: 1048575 entries, 0 to 1048574\n",
      "Data columns (total 12 columns):\n",
      " #   Column          Non-Null Count    Dtype  \n",
      "---  ------          --------------    -----  \n",
      " 0   Time            1048575 non-null  int64  \n",
      " 1   LineID          1048575 non-null  object \n",
      " 2   JourneyPattern  1048575 non-null  object \n",
      " 3   VehicleJID      1048575 non-null  int64  \n",
      " 4   Operator        1048575 non-null  object \n",
      " 5   Congestion      1048575 non-null  int64  \n",
      " 6   Lon             1048575 non-null  float64\n",
      " 7   Lat             1048575 non-null  float64\n",
      " 8   Delay           1048575 non-null  int64  \n",
      " 9   VehicleID       1048575 non-null  int64  \n",
      " 10  StopID          1048575 non-null  int64  \n",
      " 11  AtStop          1048575 non-null  int64  \n",
      "dtypes: float64(2), int64(7), object(3)\n",
      "memory usage: 96.0+ MB\n"
     ]
    }
   ],
   "source": [
    "siri.info()"
   ]
  },
  {
   "cell_type": "code",
   "execution_count": 9,
   "metadata": {
    "ExecuteTime": {
     "end_time": "2020-07-07T17:12:40.730486Z",
     "start_time": "2020-07-07T17:12:40.330783Z"
    }
   },
   "outputs": [
    {
     "data": {
      "text/html": [
       "<div>\n",
       "<style scoped>\n",
       "    .dataframe tbody tr th:only-of-type {\n",
       "        vertical-align: middle;\n",
       "    }\n",
       "\n",
       "    .dataframe tbody tr th {\n",
       "        vertical-align: top;\n",
       "    }\n",
       "\n",
       "    .dataframe thead th {\n",
       "        text-align: right;\n",
       "    }\n",
       "</style>\n",
       "<table border=\"1\" class=\"dataframe\">\n",
       "  <thead>\n",
       "    <tr style=\"text-align: right;\">\n",
       "      <th></th>\n",
       "      <th>Time</th>\n",
       "      <th>VehicleJID</th>\n",
       "      <th>Congestion</th>\n",
       "      <th>Lon</th>\n",
       "      <th>Lat</th>\n",
       "      <th>Delay</th>\n",
       "      <th>VehicleID</th>\n",
       "      <th>StopID</th>\n",
       "      <th>AtStop</th>\n",
       "    </tr>\n",
       "  </thead>\n",
       "  <tbody>\n",
       "    <tr>\n",
       "      <th>count</th>\n",
       "      <td>1.048575e+06</td>\n",
       "      <td>1.048575e+06</td>\n",
       "      <td>1.048575e+06</td>\n",
       "      <td>1.048575e+06</td>\n",
       "      <td>1.048575e+06</td>\n",
       "      <td>1.048575e+06</td>\n",
       "      <td>1.048575e+06</td>\n",
       "      <td>1.048575e+06</td>\n",
       "      <td>1.048575e+06</td>\n",
       "    </tr>\n",
       "    <tr>\n",
       "      <th>mean</th>\n",
       "      <td>1.411733e+09</td>\n",
       "      <td>9.977111e+03</td>\n",
       "      <td>6.713874e-03</td>\n",
       "      <td>-6.270000e+00</td>\n",
       "      <td>5.334311e+01</td>\n",
       "      <td>1.513641e+02</td>\n",
       "      <td>3.659187e+04</td>\n",
       "      <td>2.472550e+03</td>\n",
       "      <td>2.197182e-01</td>\n",
       "    </tr>\n",
       "    <tr>\n",
       "      <th>std</th>\n",
       "      <td>1.397623e+04</td>\n",
       "      <td>7.739258e+04</td>\n",
       "      <td>8.166274e-02</td>\n",
       "      <td>7.979334e-02</td>\n",
       "      <td>5.285900e-02</td>\n",
       "      <td>6.200250e+02</td>\n",
       "      <td>4.065003e+03</td>\n",
       "      <td>2.065485e+03</td>\n",
       "      <td>4.140559e-01</td>\n",
       "    </tr>\n",
       "    <tr>\n",
       "      <th>min</th>\n",
       "      <td>1.411686e+09</td>\n",
       "      <td>1.000000e+00</td>\n",
       "      <td>0.000000e+00</td>\n",
       "      <td>-6.614652e+00</td>\n",
       "      <td>5.307042e+01</td>\n",
       "      <td>-1.420900e+04</td>\n",
       "      <td>1.800100e+04</td>\n",
       "      <td>0.000000e+00</td>\n",
       "      <td>0.000000e+00</td>\n",
       "    </tr>\n",
       "    <tr>\n",
       "      <th>25%</th>\n",
       "      <td>1.411720e+09</td>\n",
       "      <td>1.994000e+03</td>\n",
       "      <td>0.000000e+00</td>\n",
       "      <td>-6.304491e+00</td>\n",
       "      <td>5.332053e+01</td>\n",
       "      <td>-5.900000e+01</td>\n",
       "      <td>3.339600e+04</td>\n",
       "      <td>7.900000e+02</td>\n",
       "      <td>0.000000e+00</td>\n",
       "    </tr>\n",
       "    <tr>\n",
       "      <th>50%</th>\n",
       "      <td>1.411733e+09</td>\n",
       "      <td>3.687000e+03</td>\n",
       "      <td>0.000000e+00</td>\n",
       "      <td>-6.261588e+00</td>\n",
       "      <td>5.334552e+01</td>\n",
       "      <td>6.400000e+01</td>\n",
       "      <td>3.361600e+04</td>\n",
       "      <td>1.934000e+03</td>\n",
       "      <td>0.000000e+00</td>\n",
       "    </tr>\n",
       "    <tr>\n",
       "      <th>75%</th>\n",
       "      <td>1.411745e+09</td>\n",
       "      <td>5.304000e+03</td>\n",
       "      <td>0.000000e+00</td>\n",
       "      <td>-6.233367e+00</td>\n",
       "      <td>5.336943e+01</td>\n",
       "      <td>2.950000e+02</td>\n",
       "      <td>4.002000e+04</td>\n",
       "      <td>3.905000e+03</td>\n",
       "      <td>0.000000e+00</td>\n",
       "    </tr>\n",
       "    <tr>\n",
       "      <th>max</th>\n",
       "      <td>1.411756e+09</td>\n",
       "      <td>9.969440e+05</td>\n",
       "      <td>1.000000e+00</td>\n",
       "      <td>-6.053133e+00</td>\n",
       "      <td>5.360652e+01</td>\n",
       "      <td>1.172300e+04</td>\n",
       "      <td>4.403400e+04</td>\n",
       "      <td>7.572000e+03</td>\n",
       "      <td>1.000000e+00</td>\n",
       "    </tr>\n",
       "  </tbody>\n",
       "</table>\n",
       "</div>"
      ],
      "text/plain": [
       "               Time    VehicleJID    Congestion           Lon           Lat         Delay     VehicleID        StopID        AtStop\n",
       "count  1.048575e+06  1.048575e+06  1.048575e+06  1.048575e+06  1.048575e+06  1.048575e+06  1.048575e+06  1.048575e+06  1.048575e+06\n",
       "mean   1.411733e+09  9.977111e+03  6.713874e-03 -6.270000e+00  5.334311e+01  1.513641e+02  3.659187e+04  2.472550e+03  2.197182e-01\n",
       "std    1.397623e+04  7.739258e+04  8.166274e-02  7.979334e-02  5.285900e-02  6.200250e+02  4.065003e+03  2.065485e+03  4.140559e-01\n",
       "min    1.411686e+09  1.000000e+00  0.000000e+00 -6.614652e+00  5.307042e+01 -1.420900e+04  1.800100e+04  0.000000e+00  0.000000e+00\n",
       "25%    1.411720e+09  1.994000e+03  0.000000e+00 -6.304491e+00  5.332053e+01 -5.900000e+01  3.339600e+04  7.900000e+02  0.000000e+00\n",
       "50%    1.411733e+09  3.687000e+03  0.000000e+00 -6.261588e+00  5.334552e+01  6.400000e+01  3.361600e+04  1.934000e+03  0.000000e+00\n",
       "75%    1.411745e+09  5.304000e+03  0.000000e+00 -6.233367e+00  5.336943e+01  2.950000e+02  4.002000e+04  3.905000e+03  0.000000e+00\n",
       "max    1.411756e+09  9.969440e+05  1.000000e+00 -6.053133e+00  5.360652e+01  1.172300e+04  4.403400e+04  7.572000e+03  1.000000e+00"
      ]
     },
     "execution_count": 9,
     "metadata": {},
     "output_type": "execute_result"
    }
   ],
   "source": [
    "# Printing summary statistics\n",
    "siri.describe()"
   ]
  },
  {
   "cell_type": "markdown",
   "metadata": {},
   "source": [
    "## Exploring independent variables"
   ]
  },
  {
   "cell_type": "code",
   "execution_count": 10,
   "metadata": {
    "ExecuteTime": {
     "end_time": "2020-07-07T17:12:40.796842Z",
     "start_time": "2020-07-07T17:12:40.736432Z"
    }
   },
   "outputs": [
    {
     "data": {
      "text/plain": [
       "array(['RD', 'HN', 'D1', 'CD', 'PO', 'SL', 'CF', 'D2'], dtype=object)"
      ]
     },
     "execution_count": 10,
     "metadata": {},
     "output_type": "execute_result"
    }
   ],
   "source": [
    "siri.Operator.unique()"
   ]
  },
  {
   "cell_type": "code",
   "execution_count": 11,
   "metadata": {
    "ExecuteTime": {
     "end_time": "2020-07-07T17:12:40.939332Z",
     "start_time": "2020-07-07T17:12:40.804242Z"
    }
   },
   "outputs": [
    {
     "data": {
      "text/plain": [
       "HN    187732\n",
       "PO    185149\n",
       "D1    138919\n",
       "RD    128832\n",
       "SL    118097\n",
       "CD    108482\n",
       "D2     99400\n",
       "CF     81964\n",
       "Name: Operator, dtype: int64"
      ]
     },
     "execution_count": 11,
     "metadata": {},
     "output_type": "execute_result"
    }
   ],
   "source": [
    "# Checking unique Operator and how many times they appear in the dataset\n",
    "siri[\"Operator\"].value_counts()"
   ]
  },
  {
   "cell_type": "code",
   "execution_count": null,
   "metadata": {},
   "outputs": [],
   "source": []
  },
  {
   "cell_type": "markdown",
   "metadata": {},
   "source": [
    "# Correlation Analysis\n",
    "\n",
    "1. We see an expected positive strong correlation between Operator, Delay, Congestion and VehicleJID,\n",
    "2. A mild correlation between JourneyPattern and Delay\n",
    "3. A weak correlation between:\n",
    "    3.1. Time and Congestion; \n",
    "    3.2. VehicleJID, Lat and Lon;  \n",
    "    3.3. Lon and time; and\n",
    "4. No Negative correlation is presented in the original dataset."
   ]
  },
  {
   "cell_type": "code",
   "execution_count": 12,
   "metadata": {
    "ExecuteTime": {
     "end_time": "2020-07-07T17:12:41.657263Z",
     "start_time": "2020-07-07T17:12:40.943196Z"
    }
   },
   "outputs": [
    {
     "data": {
      "image/png": "[encoded data removed]",
      "text/plain": [
       "<Figure size 864x720 with 2 Axes>"
      ]
     },
     "metadata": {
      "needs_background": "light"
     },
     "output_type": "display_data"
    }
   ],
   "source": [
    "dtset = siri\n",
    "correlation = siri.corr() # data correlation \n",
    "fig = plt.figure(figsize=(12, 10))\n",
    "ax = fig.add_subplot(212)\n",
    "sns.heatmap(correlation, ax=ax, cmap=\"coolwarm\", linewidths = 0.5)\n",
    "# fig.colorbar(cax)\n",
    "ticks = np.arange(0,len(siri.columns),1)\n",
    "ax.set_xticks(ticks)\n",
    "plt.xticks(rotation=60)\n",
    "ax.set_yticks(ticks)\n",
    "ax.set_xticklabels(siri.columns)\n",
    "ax.set_yticklabels(siri.columns)\n",
    "plt.show()"
   ]
  },
  {
   "cell_type": "code",
   "execution_count": null,
   "metadata": {},
   "outputs": [],
   "source": []
  }
 ],
 "metadata": {
  "kernelspec": {
   "display_name": "Python 3",
   "language": "python",
   "name": "python3"
  },
  "language_info": {
   "codemirror_mode": {
    "name": "ipython",
    "version": 3
   },
   "file_extension": ".py",
   "mimetype": "text/x-python",
   "name": "python",
   "nbconvert_exporter": "python",
   "pygments_lexer": "ipython3",
   "version": "3.7.6"
  },
  "latex_envs": {
   "LaTeX_envs_menu_present": true,
   "autoclose": false,
   "autocomplete": true,
   "bibliofile": "biblio.bib",
   "cite_by": "apalike",
   "current_citInitial": 1,
   "eqLabelWithNumbers": true,
   "eqNumInitial": 1,
   "hotkeys": {
    "equation": "Ctrl-E",
    "itemize": "Ctrl-I"
   },
   "labels_anchors": false,
   "latex_user_defs": false,
   "report_style_numbering": false,
   "user_envs_cfg": false
  },
  "toc": {
   "base_numbering": 1,
   "nav_menu": {},
   "number_sections": true,
   "sideBar": true,
   "skip_h1_title": false,
   "title_cell": "Table of Contents",
   "title_sidebar": "Contents",
   "toc_cell": true,
   "toc_position": {},
   "toc_section_display": true,
   "toc_window_display": false
  }
 },
 "nbformat": 4,
 "nbformat_minor": 4
}
